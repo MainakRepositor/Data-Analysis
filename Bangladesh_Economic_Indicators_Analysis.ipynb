{
  "nbformat": 4,
  "nbformat_minor": 0,
  "metadata": {
    "colab": {
      "name": "Bangladesh Economic Indicators Analysis",
      "provenance": [],
      "toc_visible": true,
      "include_colab_link": true
    },
    "kernelspec": {
      "name": "python3",
      "display_name": "Python 3"
    }
  },
  "cells": [
    {
      "cell_type": "markdown",
      "metadata": {
        "id": "view-in-github",
        "colab_type": "text"
      },
      "source": [
        "<a href=\"https://colab.research.google.com/github/MainakRepositor/Data-Analysis/blob/master/Bangladesh_Economic_Indicators_Analysis.ipynb\" target=\"_parent\"><img src=\"https://colab.research.google.com/assets/colab-badge.svg\" alt=\"Open In Colab\"/></a>"
      ]
    },
    {
      "cell_type": "markdown",
      "metadata": {
        "id": "S7zx2Gi1hIBG"
      },
      "source": [
        "<h1><u><center><font size=10 color='indigo'>BANGLADESH ECONOMIC INDICATORS ANALYSIS</font></center></u></h1>"
      ]
    },
    {
      "cell_type": "markdown",
      "metadata": {
        "id": "hVpf1FoHhdB7"
      },
      "source": [
        "# 1. Importing necessary libraries"
      ]
    },
    {
      "cell_type": "code",
      "metadata": {
        "id": "_FSMbuOKg3fZ",
        "outputId": "bb300f15-15c6-4187-ceda-0eb0985732d9",
        "colab": {
          "base_uri": "https://localhost:8080/",
          "height": 34
        }
      },
      "source": [
        "import numpy as np\n",
        "import pandas as pd\n",
        "import matplotlib.pyplot as plt\n",
        "%matplotlib inline\n",
        "import seaborn as sns\n",
        "import plotly.graph_objects as go\n",
        "import plotly.express as px\n",
        "print(\"All packages have been installed successfully!\")"
      ],
      "execution_count": 1,
      "outputs": [
        {
          "output_type": "stream",
          "text": [
            "All packages have been installed successfully!\n"
          ],
          "name": "stdout"
        }
      ]
    },
    {
      "cell_type": "markdown",
      "metadata": {
        "id": "2TFFKRG7h19g"
      },
      "source": [
        "# 2. Importing the datasets"
      ]
    },
    {
      "cell_type": "code",
      "metadata": {
        "id": "FPRgWXmqhz0z",
        "outputId": "ab606fb2-c00c-4ff4-901b-6127223e166a",
        "colab": {
          "base_uri": "https://localhost:8080/",
          "height": 195
        }
      },
      "source": [
        "df = pd.read_csv('/content/BD_economic_indicators.csv')\n",
        "df.head()"
      ],
      "execution_count": 2,
      "outputs": [
        {
          "output_type": "execute_result",
          "data": {
            "text/html": [
              "<div>\n",
              "<style scoped>\n",
              "    .dataframe tbody tr th:only-of-type {\n",
              "        vertical-align: middle;\n",
              "    }\n",
              "\n",
              "    .dataframe tbody tr th {\n",
              "        vertical-align: top;\n",
              "    }\n",
              "\n",
              "    .dataframe thead th {\n",
              "        text-align: right;\n",
              "    }\n",
              "</style>\n",
              "<table border=\"1\" class=\"dataframe\">\n",
              "  <thead>\n",
              "    <tr style=\"text-align: right;\">\n",
              "      <th></th>\n",
              "      <th>Year</th>\n",
              "      <th>GDP</th>\n",
              "      <th>GDP per capita</th>\n",
              "      <th>GDP growth</th>\n",
              "      <th>Inflation rate</th>\n",
              "      <th>Unemployed rate</th>\n",
              "      <th>Government debt</th>\n",
              "      <th>Total Investment</th>\n",
              "    </tr>\n",
              "  </thead>\n",
              "  <tbody>\n",
              "    <tr>\n",
              "      <th>0</th>\n",
              "      <td>1980</td>\n",
              "      <td>41.2</td>\n",
              "      <td>500</td>\n",
              "      <td>3.10%</td>\n",
              "      <td>15.40%</td>\n",
              "      <td>NaN</td>\n",
              "      <td>NaN</td>\n",
              "      <td>14.44%</td>\n",
              "    </tr>\n",
              "    <tr>\n",
              "      <th>1</th>\n",
              "      <td>1981</td>\n",
              "      <td>47.4</td>\n",
              "      <td>560</td>\n",
              "      <td>5.60%</td>\n",
              "      <td>14.50%</td>\n",
              "      <td>NaN</td>\n",
              "      <td>NaN</td>\n",
              "      <td>17.16%</td>\n",
              "    </tr>\n",
              "    <tr>\n",
              "      <th>2</th>\n",
              "      <td>1982</td>\n",
              "      <td>52.0</td>\n",
              "      <td>597</td>\n",
              "      <td>3.20%</td>\n",
              "      <td>12.90%</td>\n",
              "      <td>NaN</td>\n",
              "      <td>NaN</td>\n",
              "      <td>17.36%</td>\n",
              "    </tr>\n",
              "    <tr>\n",
              "      <th>3</th>\n",
              "      <td>1983</td>\n",
              "      <td>56.5</td>\n",
              "      <td>633</td>\n",
              "      <td>4.60%</td>\n",
              "      <td>9.50%</td>\n",
              "      <td>NaN</td>\n",
              "      <td>NaN</td>\n",
              "      <td>16.56%</td>\n",
              "    </tr>\n",
              "    <tr>\n",
              "      <th>4</th>\n",
              "      <td>1984</td>\n",
              "      <td>61.0</td>\n",
              "      <td>664</td>\n",
              "      <td>4.20%</td>\n",
              "      <td>10.40%</td>\n",
              "      <td>NaN</td>\n",
              "      <td>NaN</td>\n",
              "      <td>16.48%</td>\n",
              "    </tr>\n",
              "  </tbody>\n",
              "</table>\n",
              "</div>"
            ],
            "text/plain": [
              "   Year  GDP  GDP per capita  ... Unemployed rate Government debt Total Investment\n",
              "0  1980  41.2            500  ...             NaN             NaN           14.44%\n",
              "1  1981  47.4            560  ...             NaN             NaN           17.16%\n",
              "2  1982  52.0            597  ...             NaN             NaN           17.36%\n",
              "3  1983  56.5            633  ...             NaN             NaN           16.56%\n",
              "4  1984  61.0            664  ...             NaN             NaN           16.48%\n",
              "\n",
              "[5 rows x 8 columns]"
            ]
          },
          "metadata": {
            "tags": []
          },
          "execution_count": 2
        }
      ]
    },
    {
      "cell_type": "code",
      "metadata": {
        "id": "Y751UZRCh_uN",
        "outputId": "4f7a245f-039b-4ca1-f99d-a133fae15017",
        "colab": {
          "base_uri": "https://localhost:8080/",
          "height": 195
        }
      },
      "source": [
        "df.tail()"
      ],
      "execution_count": 3,
      "outputs": [
        {
          "output_type": "execute_result",
          "data": {
            "text/html": [
              "<div>\n",
              "<style scoped>\n",
              "    .dataframe tbody tr th:only-of-type {\n",
              "        vertical-align: middle;\n",
              "    }\n",
              "\n",
              "    .dataframe tbody tr th {\n",
              "        vertical-align: top;\n",
              "    }\n",
              "\n",
              "    .dataframe thead th {\n",
              "        text-align: right;\n",
              "    }\n",
              "</style>\n",
              "<table border=\"1\" class=\"dataframe\">\n",
              "  <thead>\n",
              "    <tr style=\"text-align: right;\">\n",
              "      <th></th>\n",
              "      <th>Year</th>\n",
              "      <th>GDP</th>\n",
              "      <th>GDP per capita</th>\n",
              "      <th>GDP growth</th>\n",
              "      <th>Inflation rate</th>\n",
              "      <th>Unemployed rate</th>\n",
              "      <th>Government debt</th>\n",
              "      <th>Total Investment</th>\n",
              "    </tr>\n",
              "  </thead>\n",
              "  <tbody>\n",
              "    <tr>\n",
              "      <th>35</th>\n",
              "      <td>2015</td>\n",
              "      <td>581.6</td>\n",
              "      <td>3,638</td>\n",
              "      <td>6.80%</td>\n",
              "      <td>6.20%</td>\n",
              "      <td>4.42%</td>\n",
              "      <td>33.60%</td>\n",
              "      <td>28.89%</td>\n",
              "    </tr>\n",
              "    <tr>\n",
              "      <th>36</th>\n",
              "      <td>2016</td>\n",
              "      <td>629.9</td>\n",
              "      <td>3,900</td>\n",
              "      <td>7.20%</td>\n",
              "      <td>5.70%</td>\n",
              "      <td>4.35%</td>\n",
              "      <td>33.30%</td>\n",
              "      <td>29.65%</td>\n",
              "    </tr>\n",
              "    <tr>\n",
              "      <th>37</th>\n",
              "      <td>2017</td>\n",
              "      <td>690.5</td>\n",
              "      <td>4,231</td>\n",
              "      <td>7.60%</td>\n",
              "      <td>5.60%</td>\n",
              "      <td>4.37%</td>\n",
              "      <td>32.60%</td>\n",
              "      <td>30.51%</td>\n",
              "    </tr>\n",
              "    <tr>\n",
              "      <th>38</th>\n",
              "      <td>2018</td>\n",
              "      <td>753.4</td>\n",
              "      <td>4,630</td>\n",
              "      <td>7.90%</td>\n",
              "      <td>5.60%</td>\n",
              "      <td>4.30%</td>\n",
              "      <td>34.00%</td>\n",
              "      <td>31.23%</td>\n",
              "    </tr>\n",
              "    <tr>\n",
              "      <th>39</th>\n",
              "      <td>2019</td>\n",
              "      <td>817.6</td>\n",
              "      <td>5,028</td>\n",
              "      <td>8.10%</td>\n",
              "      <td>5.50%</td>\n",
              "      <td>4.29%</td>\n",
              "      <td>33.50%</td>\n",
              "      <td>31.60%</td>\n",
              "    </tr>\n",
              "  </tbody>\n",
              "</table>\n",
              "</div>"
            ],
            "text/plain": [
              "    Year   GDP  GDP per capita  ... Unemployed rate Government debt Total Investment\n",
              "35  2015  581.6          3,638  ...           4.42%          33.60%           28.89%\n",
              "36  2016  629.9          3,900  ...           4.35%          33.30%           29.65%\n",
              "37  2017  690.5          4,231  ...           4.37%          32.60%           30.51%\n",
              "38  2018  753.4          4,630  ...           4.30%          34.00%           31.23%\n",
              "39  2019  817.6          5,028  ...           4.29%          33.50%           31.60%\n",
              "\n",
              "[5 rows x 8 columns]"
            ]
          },
          "metadata": {
            "tags": []
          },
          "execution_count": 3
        }
      ]
    },
    {
      "cell_type": "markdown",
      "metadata": {
        "id": "H6NxsWtaiJIa"
      },
      "source": [
        "# 3. Data exploration"
      ]
    },
    {
      "cell_type": "code",
      "metadata": {
        "id": "6VV5YqOPiEwN",
        "outputId": "8b8af236-cb4a-4cbc-84fa-f82d0cf41fac",
        "colab": {
          "base_uri": "https://localhost:8080/",
          "height": 52
        }
      },
      "source": [
        "r,c = df.shape\n",
        "print(\"The number of columns in the dataset = \",c)\n",
        "print(\"The number of rows in the dataset    = \",r)"
      ],
      "execution_count": 4,
      "outputs": [
        {
          "output_type": "stream",
          "text": [
            "The number of columns in the dataset =  8\n",
            "The number of rows in the dataset    =  40\n"
          ],
          "name": "stdout"
        }
      ]
    },
    {
      "cell_type": "code",
      "metadata": {
        "id": "fSTV8xXVibJK",
        "outputId": "c8e1187f-70e3-4e89-d4d1-41a453b18a98",
        "colab": {
          "base_uri": "https://localhost:8080/",
          "height": 281
        }
      },
      "source": [
        "df.info()"
      ],
      "execution_count": 5,
      "outputs": [
        {
          "output_type": "stream",
          "text": [
            "<class 'pandas.core.frame.DataFrame'>\n",
            "RangeIndex: 40 entries, 0 to 39\n",
            "Data columns (total 8 columns):\n",
            " #   Column            Non-Null Count  Dtype  \n",
            "---  ------            --------------  -----  \n",
            " 0   Year              40 non-null     int64  \n",
            " 1   GDP               40 non-null     float64\n",
            " 2   GDP per capita    40 non-null     object \n",
            " 3   GDP growth        40 non-null     object \n",
            " 4   Inflation rate    40 non-null     object \n",
            " 5   Unemployed rate   29 non-null     object \n",
            " 6   Government debt   17 non-null     object \n",
            " 7   Total Investment  40 non-null     object \n",
            "dtypes: float64(1), int64(1), object(6)\n",
            "memory usage: 2.6+ KB\n"
          ],
          "name": "stdout"
        }
      ]
    },
    {
      "cell_type": "markdown",
      "metadata": {
        "id": "e8ttqyAW0Hiz"
      },
      "source": [
        "# 4. Data Cleaning and Processing"
      ]
    },
    {
      "cell_type": "code",
      "metadata": {
        "id": "zMrZ8_t1lf34"
      },
      "source": [
        "df = df.replace(np.nan,'%')"
      ],
      "execution_count": 6,
      "outputs": []
    },
    {
      "cell_type": "code",
      "metadata": {
        "id": "mQwOAplWjTl6",
        "outputId": "3173f387-c15f-425a-9485-4fa59e32bdb7",
        "colab": {
          "base_uri": "https://localhost:8080/",
          "height": 491
        }
      },
      "source": [
        "df.head(15)"
      ],
      "execution_count": 7,
      "outputs": [
        {
          "output_type": "execute_result",
          "data": {
            "text/html": [
              "<div>\n",
              "<style scoped>\n",
              "    .dataframe tbody tr th:only-of-type {\n",
              "        vertical-align: middle;\n",
              "    }\n",
              "\n",
              "    .dataframe tbody tr th {\n",
              "        vertical-align: top;\n",
              "    }\n",
              "\n",
              "    .dataframe thead th {\n",
              "        text-align: right;\n",
              "    }\n",
              "</style>\n",
              "<table border=\"1\" class=\"dataframe\">\n",
              "  <thead>\n",
              "    <tr style=\"text-align: right;\">\n",
              "      <th></th>\n",
              "      <th>Year</th>\n",
              "      <th>GDP</th>\n",
              "      <th>GDP per capita</th>\n",
              "      <th>GDP growth</th>\n",
              "      <th>Inflation rate</th>\n",
              "      <th>Unemployed rate</th>\n",
              "      <th>Government debt</th>\n",
              "      <th>Total Investment</th>\n",
              "    </tr>\n",
              "  </thead>\n",
              "  <tbody>\n",
              "    <tr>\n",
              "      <th>0</th>\n",
              "      <td>1980</td>\n",
              "      <td>41.2</td>\n",
              "      <td>500</td>\n",
              "      <td>3.10%</td>\n",
              "      <td>15.40%</td>\n",
              "      <td>%</td>\n",
              "      <td>%</td>\n",
              "      <td>14.44%</td>\n",
              "    </tr>\n",
              "    <tr>\n",
              "      <th>1</th>\n",
              "      <td>1981</td>\n",
              "      <td>47.4</td>\n",
              "      <td>560</td>\n",
              "      <td>5.60%</td>\n",
              "      <td>14.50%</td>\n",
              "      <td>%</td>\n",
              "      <td>%</td>\n",
              "      <td>17.16%</td>\n",
              "    </tr>\n",
              "    <tr>\n",
              "      <th>2</th>\n",
              "      <td>1982</td>\n",
              "      <td>52.0</td>\n",
              "      <td>597</td>\n",
              "      <td>3.20%</td>\n",
              "      <td>12.90%</td>\n",
              "      <td>%</td>\n",
              "      <td>%</td>\n",
              "      <td>17.36%</td>\n",
              "    </tr>\n",
              "    <tr>\n",
              "      <th>3</th>\n",
              "      <td>1983</td>\n",
              "      <td>56.5</td>\n",
              "      <td>633</td>\n",
              "      <td>4.60%</td>\n",
              "      <td>9.50%</td>\n",
              "      <td>%</td>\n",
              "      <td>%</td>\n",
              "      <td>16.56%</td>\n",
              "    </tr>\n",
              "    <tr>\n",
              "      <th>4</th>\n",
              "      <td>1984</td>\n",
              "      <td>61.0</td>\n",
              "      <td>664</td>\n",
              "      <td>4.20%</td>\n",
              "      <td>10.40%</td>\n",
              "      <td>%</td>\n",
              "      <td>%</td>\n",
              "      <td>16.48%</td>\n",
              "    </tr>\n",
              "    <tr>\n",
              "      <th>5</th>\n",
              "      <td>1985</td>\n",
              "      <td>65.3</td>\n",
              "      <td>693</td>\n",
              "      <td>3.70%</td>\n",
              "      <td>10.50%</td>\n",
              "      <td>%</td>\n",
              "      <td>%</td>\n",
              "      <td>15.83%</td>\n",
              "    </tr>\n",
              "    <tr>\n",
              "      <th>6</th>\n",
              "      <td>1986</td>\n",
              "      <td>69.3</td>\n",
              "      <td>715</td>\n",
              "      <td>4.00%</td>\n",
              "      <td>10.20%</td>\n",
              "      <td>%</td>\n",
              "      <td>%</td>\n",
              "      <td>16.18%</td>\n",
              "    </tr>\n",
              "    <tr>\n",
              "      <th>7</th>\n",
              "      <td>1987</td>\n",
              "      <td>73.1</td>\n",
              "      <td>735</td>\n",
              "      <td>2.90%</td>\n",
              "      <td>10.80%</td>\n",
              "      <td>%</td>\n",
              "      <td>%</td>\n",
              "      <td>15.47%</td>\n",
              "    </tr>\n",
              "    <tr>\n",
              "      <th>8</th>\n",
              "      <td>1988</td>\n",
              "      <td>77.5</td>\n",
              "      <td>759</td>\n",
              "      <td>2.40%</td>\n",
              "      <td>9.70%</td>\n",
              "      <td>%</td>\n",
              "      <td>%</td>\n",
              "      <td>15.74%</td>\n",
              "    </tr>\n",
              "    <tr>\n",
              "      <th>9</th>\n",
              "      <td>1989</td>\n",
              "      <td>84.0</td>\n",
              "      <td>801</td>\n",
              "      <td>4.30%</td>\n",
              "      <td>8.70%</td>\n",
              "      <td>%</td>\n",
              "      <td>%</td>\n",
              "      <td>16.12%</td>\n",
              "    </tr>\n",
              "    <tr>\n",
              "      <th>10</th>\n",
              "      <td>1990</td>\n",
              "      <td>91.1</td>\n",
              "      <td>848</td>\n",
              "      <td>4.60%</td>\n",
              "      <td>10.50%</td>\n",
              "      <td>%</td>\n",
              "      <td>%</td>\n",
              "      <td>16.46%</td>\n",
              "    </tr>\n",
              "    <tr>\n",
              "      <th>11</th>\n",
              "      <td>1991</td>\n",
              "      <td>98.1</td>\n",
              "      <td>892</td>\n",
              "      <td>4.20%</td>\n",
              "      <td>8.30%</td>\n",
              "      <td>2.20%</td>\n",
              "      <td>%</td>\n",
              "      <td>16.90%</td>\n",
              "    </tr>\n",
              "    <tr>\n",
              "      <th>12</th>\n",
              "      <td>1992</td>\n",
              "      <td>105.1</td>\n",
              "      <td>935</td>\n",
              "      <td>4.80%</td>\n",
              "      <td>3.60%</td>\n",
              "      <td>2.25%</td>\n",
              "      <td>%</td>\n",
              "      <td>17.31%</td>\n",
              "    </tr>\n",
              "    <tr>\n",
              "      <th>13</th>\n",
              "      <td>1993</td>\n",
              "      <td>112.3</td>\n",
              "      <td>977</td>\n",
              "      <td>4.30%</td>\n",
              "      <td>3.00%</td>\n",
              "      <td>2.37%</td>\n",
              "      <td>%</td>\n",
              "      <td>17.95%</td>\n",
              "    </tr>\n",
              "    <tr>\n",
              "      <th>14</th>\n",
              "      <td>1994</td>\n",
              "      <td>119.9</td>\n",
              "      <td>1,021</td>\n",
              "      <td>4.50%</td>\n",
              "      <td>6.20%</td>\n",
              "      <td>2.44%</td>\n",
              "      <td>%</td>\n",
              "      <td>18.40%</td>\n",
              "    </tr>\n",
              "  </tbody>\n",
              "</table>\n",
              "</div>"
            ],
            "text/plain": [
              "    Year   GDP  GDP per capita  ... Unemployed rate Government debt Total Investment\n",
              "0   1980   41.2            500  ...               %               %           14.44%\n",
              "1   1981   47.4            560  ...               %               %           17.16%\n",
              "2   1982   52.0            597  ...               %               %           17.36%\n",
              "3   1983   56.5            633  ...               %               %           16.56%\n",
              "4   1984   61.0            664  ...               %               %           16.48%\n",
              "5   1985   65.3            693  ...               %               %           15.83%\n",
              "6   1986   69.3            715  ...               %               %           16.18%\n",
              "7   1987   73.1            735  ...               %               %           15.47%\n",
              "8   1988   77.5            759  ...               %               %           15.74%\n",
              "9   1989   84.0            801  ...               %               %           16.12%\n",
              "10  1990   91.1            848  ...               %               %           16.46%\n",
              "11  1991   98.1            892  ...           2.20%               %           16.90%\n",
              "12  1992  105.1            935  ...           2.25%               %           17.31%\n",
              "13  1993  112.3            977  ...           2.37%               %           17.95%\n",
              "14  1994  119.9          1,021  ...           2.44%               %           18.40%\n",
              "\n",
              "[15 rows x 8 columns]"
            ]
          },
          "metadata": {
            "tags": []
          },
          "execution_count": 7
        }
      ]
    },
    {
      "cell_type": "code",
      "metadata": {
        "id": "ilDcwSJNifcV"
      },
      "source": [
        "df['GDP growth'] = df['GDP growth'].map(lambda x: x.rstrip('%'))\n",
        "df['Inflation rate'] = df['Inflation rate'].map(lambda x: x.rstrip('%'))\n",
        "df['Total Investment'] = df['Total Investment'].map(lambda x: x.rstrip('%'))\n",
        "df['Unemployed rate'] = df['Unemployed rate'].map(lambda x: x.rstrip('%'))\n",
        "df['Government debt'] = df['Government debt'].map(lambda x: x.rstrip('%'))\n",
        "df['GDP per capita'].replace(',','', regex=True, inplace=True)"
      ],
      "execution_count": 8,
      "outputs": []
    },
    {
      "cell_type": "code",
      "metadata": {
        "id": "noJkt9eEmxws"
      },
      "source": [
        "df['GDP growth'] = pd.to_numeric(df['GDP growth'],errors='coerce')\n",
        "df['Inflation rate'] = pd.to_numeric(df['Inflation rate'],errors='coerce')\n",
        "df['Total Investment'] = pd.to_numeric(df['Total Investment'],errors='coerce')\n",
        "df['Unemployed rate'] = pd.to_numeric(df['Unemployed rate'],errors='coerce')\n",
        "df['Government debt'] = pd.to_numeric(df['Government debt'],errors='coerce')\n",
        "df['GDP per capita'] = pd.to_numeric(df['GDP per capita'],errors='coerce')"
      ],
      "execution_count": 9,
      "outputs": []
    },
    {
      "cell_type": "code",
      "metadata": {
        "id": "F_sVuUS2nuIp"
      },
      "source": [
        "m = df['Unemployed rate'].mean()\n",
        "m1 = df['Government debt'].mean()"
      ],
      "execution_count": 10,
      "outputs": []
    },
    {
      "cell_type": "code",
      "metadata": {
        "id": "q3B6grgZoOCH"
      },
      "source": [
        "df['Unemployed rate'] = df['Unemployed rate'].replace(np.nan,m)\n",
        "df['Government debt'] = df['Government debt'].replace(np.nan,m1)"
      ],
      "execution_count": 11,
      "outputs": []
    },
    {
      "cell_type": "code",
      "metadata": {
        "id": "dmQhVd60qjsU",
        "outputId": "a3dd25ac-81dc-4ae3-f509-3dc8ba1634b5",
        "colab": {
          "base_uri": "https://localhost:8080/",
          "height": 1000
        }
      },
      "source": [
        "df"
      ],
      "execution_count": 12,
      "outputs": [
        {
          "output_type": "execute_result",
          "data": {
            "text/html": [
              "<div>\n",
              "<style scoped>\n",
              "    .dataframe tbody tr th:only-of-type {\n",
              "        vertical-align: middle;\n",
              "    }\n",
              "\n",
              "    .dataframe tbody tr th {\n",
              "        vertical-align: top;\n",
              "    }\n",
              "\n",
              "    .dataframe thead th {\n",
              "        text-align: right;\n",
              "    }\n",
              "</style>\n",
              "<table border=\"1\" class=\"dataframe\">\n",
              "  <thead>\n",
              "    <tr style=\"text-align: right;\">\n",
              "      <th></th>\n",
              "      <th>Year</th>\n",
              "      <th>GDP</th>\n",
              "      <th>GDP per capita</th>\n",
              "      <th>GDP growth</th>\n",
              "      <th>Inflation rate</th>\n",
              "      <th>Unemployed rate</th>\n",
              "      <th>Government debt</th>\n",
              "      <th>Total Investment</th>\n",
              "    </tr>\n",
              "  </thead>\n",
              "  <tbody>\n",
              "    <tr>\n",
              "      <th>0</th>\n",
              "      <td>1980</td>\n",
              "      <td>41.2</td>\n",
              "      <td>500</td>\n",
              "      <td>3.1</td>\n",
              "      <td>15.4</td>\n",
              "      <td>3.608276</td>\n",
              "      <td>37.694118</td>\n",
              "      <td>14.44</td>\n",
              "    </tr>\n",
              "    <tr>\n",
              "      <th>1</th>\n",
              "      <td>1981</td>\n",
              "      <td>47.4</td>\n",
              "      <td>560</td>\n",
              "      <td>5.6</td>\n",
              "      <td>14.5</td>\n",
              "      <td>3.608276</td>\n",
              "      <td>37.694118</td>\n",
              "      <td>17.16</td>\n",
              "    </tr>\n",
              "    <tr>\n",
              "      <th>2</th>\n",
              "      <td>1982</td>\n",
              "      <td>52.0</td>\n",
              "      <td>597</td>\n",
              "      <td>3.2</td>\n",
              "      <td>12.9</td>\n",
              "      <td>3.608276</td>\n",
              "      <td>37.694118</td>\n",
              "      <td>17.36</td>\n",
              "    </tr>\n",
              "    <tr>\n",
              "      <th>3</th>\n",
              "      <td>1983</td>\n",
              "      <td>56.5</td>\n",
              "      <td>633</td>\n",
              "      <td>4.6</td>\n",
              "      <td>9.5</td>\n",
              "      <td>3.608276</td>\n",
              "      <td>37.694118</td>\n",
              "      <td>16.56</td>\n",
              "    </tr>\n",
              "    <tr>\n",
              "      <th>4</th>\n",
              "      <td>1984</td>\n",
              "      <td>61.0</td>\n",
              "      <td>664</td>\n",
              "      <td>4.2</td>\n",
              "      <td>10.4</td>\n",
              "      <td>3.608276</td>\n",
              "      <td>37.694118</td>\n",
              "      <td>16.48</td>\n",
              "    </tr>\n",
              "    <tr>\n",
              "      <th>5</th>\n",
              "      <td>1985</td>\n",
              "      <td>65.3</td>\n",
              "      <td>693</td>\n",
              "      <td>3.7</td>\n",
              "      <td>10.5</td>\n",
              "      <td>3.608276</td>\n",
              "      <td>37.694118</td>\n",
              "      <td>15.83</td>\n",
              "    </tr>\n",
              "    <tr>\n",
              "      <th>6</th>\n",
              "      <td>1986</td>\n",
              "      <td>69.3</td>\n",
              "      <td>715</td>\n",
              "      <td>4.0</td>\n",
              "      <td>10.2</td>\n",
              "      <td>3.608276</td>\n",
              "      <td>37.694118</td>\n",
              "      <td>16.18</td>\n",
              "    </tr>\n",
              "    <tr>\n",
              "      <th>7</th>\n",
              "      <td>1987</td>\n",
              "      <td>73.1</td>\n",
              "      <td>735</td>\n",
              "      <td>2.9</td>\n",
              "      <td>10.8</td>\n",
              "      <td>3.608276</td>\n",
              "      <td>37.694118</td>\n",
              "      <td>15.47</td>\n",
              "    </tr>\n",
              "    <tr>\n",
              "      <th>8</th>\n",
              "      <td>1988</td>\n",
              "      <td>77.5</td>\n",
              "      <td>759</td>\n",
              "      <td>2.4</td>\n",
              "      <td>9.7</td>\n",
              "      <td>3.608276</td>\n",
              "      <td>37.694118</td>\n",
              "      <td>15.74</td>\n",
              "    </tr>\n",
              "    <tr>\n",
              "      <th>9</th>\n",
              "      <td>1989</td>\n",
              "      <td>84.0</td>\n",
              "      <td>801</td>\n",
              "      <td>4.3</td>\n",
              "      <td>8.7</td>\n",
              "      <td>3.608276</td>\n",
              "      <td>37.694118</td>\n",
              "      <td>16.12</td>\n",
              "    </tr>\n",
              "    <tr>\n",
              "      <th>10</th>\n",
              "      <td>1990</td>\n",
              "      <td>91.1</td>\n",
              "      <td>848</td>\n",
              "      <td>4.6</td>\n",
              "      <td>10.5</td>\n",
              "      <td>3.608276</td>\n",
              "      <td>37.694118</td>\n",
              "      <td>16.46</td>\n",
              "    </tr>\n",
              "    <tr>\n",
              "      <th>11</th>\n",
              "      <td>1991</td>\n",
              "      <td>98.1</td>\n",
              "      <td>892</td>\n",
              "      <td>4.2</td>\n",
              "      <td>8.3</td>\n",
              "      <td>2.200000</td>\n",
              "      <td>37.694118</td>\n",
              "      <td>16.90</td>\n",
              "    </tr>\n",
              "    <tr>\n",
              "      <th>12</th>\n",
              "      <td>1992</td>\n",
              "      <td>105.1</td>\n",
              "      <td>935</td>\n",
              "      <td>4.8</td>\n",
              "      <td>3.6</td>\n",
              "      <td>2.250000</td>\n",
              "      <td>37.694118</td>\n",
              "      <td>17.31</td>\n",
              "    </tr>\n",
              "    <tr>\n",
              "      <th>13</th>\n",
              "      <td>1993</td>\n",
              "      <td>112.3</td>\n",
              "      <td>977</td>\n",
              "      <td>4.3</td>\n",
              "      <td>3.0</td>\n",
              "      <td>2.370000</td>\n",
              "      <td>37.694118</td>\n",
              "      <td>17.95</td>\n",
              "    </tr>\n",
              "    <tr>\n",
              "      <th>14</th>\n",
              "      <td>1994</td>\n",
              "      <td>119.9</td>\n",
              "      <td>1021</td>\n",
              "      <td>4.5</td>\n",
              "      <td>6.2</td>\n",
              "      <td>2.440000</td>\n",
              "      <td>37.694118</td>\n",
              "      <td>18.40</td>\n",
              "    </tr>\n",
              "    <tr>\n",
              "      <th>15</th>\n",
              "      <td>1995</td>\n",
              "      <td>128.2</td>\n",
              "      <td>1069</td>\n",
              "      <td>4.8</td>\n",
              "      <td>10.1</td>\n",
              "      <td>2.480000</td>\n",
              "      <td>37.694118</td>\n",
              "      <td>19.12</td>\n",
              "    </tr>\n",
              "    <tr>\n",
              "      <th>16</th>\n",
              "      <td>1996</td>\n",
              "      <td>137.1</td>\n",
              "      <td>1120</td>\n",
              "      <td>5.0</td>\n",
              "      <td>2.5</td>\n",
              "      <td>2.510000</td>\n",
              "      <td>37.694118</td>\n",
              "      <td>20.73</td>\n",
              "    </tr>\n",
              "    <tr>\n",
              "      <th>17</th>\n",
              "      <td>1997</td>\n",
              "      <td>146.8</td>\n",
              "      <td>1175</td>\n",
              "      <td>5.3</td>\n",
              "      <td>5.0</td>\n",
              "      <td>2.690000</td>\n",
              "      <td>37.694118</td>\n",
              "      <td>21.82</td>\n",
              "    </tr>\n",
              "    <tr>\n",
              "      <th>18</th>\n",
              "      <td>1998</td>\n",
              "      <td>155.9</td>\n",
              "      <td>1223</td>\n",
              "      <td>5.0</td>\n",
              "      <td>8.6</td>\n",
              "      <td>2.830000</td>\n",
              "      <td>37.694118</td>\n",
              "      <td>22.12</td>\n",
              "    </tr>\n",
              "    <tr>\n",
              "      <th>19</th>\n",
              "      <td>1999</td>\n",
              "      <td>166.9</td>\n",
              "      <td>1284</td>\n",
              "      <td>5.4</td>\n",
              "      <td>6.2</td>\n",
              "      <td>3.100000</td>\n",
              "      <td>37.694118</td>\n",
              "      <td>22.72</td>\n",
              "    </tr>\n",
              "    <tr>\n",
              "      <th>20</th>\n",
              "      <td>2000</td>\n",
              "      <td>180.2</td>\n",
              "      <td>1361</td>\n",
              "      <td>5.6</td>\n",
              "      <td>2.5</td>\n",
              "      <td>3.270000</td>\n",
              "      <td>37.694118</td>\n",
              "      <td>23.81</td>\n",
              "    </tr>\n",
              "    <tr>\n",
              "      <th>21</th>\n",
              "      <td>2001</td>\n",
              "      <td>193.2</td>\n",
              "      <td>1434</td>\n",
              "      <td>4.8</td>\n",
              "      <td>1.9</td>\n",
              "      <td>3.550000</td>\n",
              "      <td>37.694118</td>\n",
              "      <td>24.17</td>\n",
              "    </tr>\n",
              "    <tr>\n",
              "      <th>22</th>\n",
              "      <td>2002</td>\n",
              "      <td>205.7</td>\n",
              "      <td>1501</td>\n",
              "      <td>4.8</td>\n",
              "      <td>3.7</td>\n",
              "      <td>3.960000</td>\n",
              "      <td>37.694118</td>\n",
              "      <td>24.34</td>\n",
              "    </tr>\n",
              "    <tr>\n",
              "      <th>23</th>\n",
              "      <td>2003</td>\n",
              "      <td>221.9</td>\n",
              "      <td>1594</td>\n",
              "      <td>5.8</td>\n",
              "      <td>5.4</td>\n",
              "      <td>4.320000</td>\n",
              "      <td>44.300000</td>\n",
              "      <td>24.68</td>\n",
              "    </tr>\n",
              "    <tr>\n",
              "      <th>24</th>\n",
              "      <td>2004</td>\n",
              "      <td>241.9</td>\n",
              "      <td>1713</td>\n",
              "      <td>6.1</td>\n",
              "      <td>6.1</td>\n",
              "      <td>4.300000</td>\n",
              "      <td>43.500000</td>\n",
              "      <td>24.99</td>\n",
              "    </tr>\n",
              "    <tr>\n",
              "      <th>25</th>\n",
              "      <td>2005</td>\n",
              "      <td>265.5</td>\n",
              "      <td>1855</td>\n",
              "      <td>6.3</td>\n",
              "      <td>7.0</td>\n",
              "      <td>4.250000</td>\n",
              "      <td>42.300000</td>\n",
              "      <td>25.83</td>\n",
              "    </tr>\n",
              "    <tr>\n",
              "      <th>26</th>\n",
              "      <td>2006</td>\n",
              "      <td>291.4</td>\n",
              "      <td>2018</td>\n",
              "      <td>6.9</td>\n",
              "      <td>6.8</td>\n",
              "      <td>3.590000</td>\n",
              "      <td>42.300000</td>\n",
              "      <td>26.14</td>\n",
              "    </tr>\n",
              "    <tr>\n",
              "      <th>27</th>\n",
              "      <td>2007</td>\n",
              "      <td>319.7</td>\n",
              "      <td>2183</td>\n",
              "      <td>6.5</td>\n",
              "      <td>9.1</td>\n",
              "      <td>3.770000</td>\n",
              "      <td>41.900000</td>\n",
              "      <td>26.18</td>\n",
              "    </tr>\n",
              "    <tr>\n",
              "      <th>28</th>\n",
              "      <td>2008</td>\n",
              "      <td>344.0</td>\n",
              "      <td>2325</td>\n",
              "      <td>5.5</td>\n",
              "      <td>8.9</td>\n",
              "      <td>4.070000</td>\n",
              "      <td>40.600000</td>\n",
              "      <td>26.20</td>\n",
              "    </tr>\n",
              "    <tr>\n",
              "      <th>29</th>\n",
              "      <td>2009</td>\n",
              "      <td>365.0</td>\n",
              "      <td>2441</td>\n",
              "      <td>5.3</td>\n",
              "      <td>4.9</td>\n",
              "      <td>5.000000</td>\n",
              "      <td>39.500000</td>\n",
              "      <td>26.21</td>\n",
              "    </tr>\n",
              "    <tr>\n",
              "      <th>30</th>\n",
              "      <td>2010</td>\n",
              "      <td>391.7</td>\n",
              "      <td>2592</td>\n",
              "      <td>6.0</td>\n",
              "      <td>9.4</td>\n",
              "      <td>3.370000</td>\n",
              "      <td>35.500000</td>\n",
              "      <td>26.25</td>\n",
              "    </tr>\n",
              "    <tr>\n",
              "      <th>31</th>\n",
              "      <td>2011</td>\n",
              "      <td>425.8</td>\n",
              "      <td>2785</td>\n",
              "      <td>6.5</td>\n",
              "      <td>11.5</td>\n",
              "      <td>3.710000</td>\n",
              "      <td>36.600000</td>\n",
              "      <td>27.42</td>\n",
              "    </tr>\n",
              "    <tr>\n",
              "      <th>32</th>\n",
              "      <td>2012</td>\n",
              "      <td>460.8</td>\n",
              "      <td>2979</td>\n",
              "      <td>6.3</td>\n",
              "      <td>6.2</td>\n",
              "      <td>4.040000</td>\n",
              "      <td>36.200000</td>\n",
              "      <td>28.26</td>\n",
              "    </tr>\n",
              "    <tr>\n",
              "      <th>33</th>\n",
              "      <td>2013</td>\n",
              "      <td>496.5</td>\n",
              "      <td>3171</td>\n",
              "      <td>6.0</td>\n",
              "      <td>7.5</td>\n",
              "      <td>4.430000</td>\n",
              "      <td>35.800000</td>\n",
              "      <td>28.39</td>\n",
              "    </tr>\n",
              "    <tr>\n",
              "      <th>34</th>\n",
              "      <td>2014</td>\n",
              "      <td>537.3</td>\n",
              "      <td>3396</td>\n",
              "      <td>6.3</td>\n",
              "      <td>7.0</td>\n",
              "      <td>4.410000</td>\n",
              "      <td>35.300000</td>\n",
              "      <td>28.58</td>\n",
              "    </tr>\n",
              "    <tr>\n",
              "      <th>35</th>\n",
              "      <td>2015</td>\n",
              "      <td>581.6</td>\n",
              "      <td>3638</td>\n",
              "      <td>6.8</td>\n",
              "      <td>6.2</td>\n",
              "      <td>4.420000</td>\n",
              "      <td>33.600000</td>\n",
              "      <td>28.89</td>\n",
              "    </tr>\n",
              "    <tr>\n",
              "      <th>36</th>\n",
              "      <td>2016</td>\n",
              "      <td>629.9</td>\n",
              "      <td>3900</td>\n",
              "      <td>7.2</td>\n",
              "      <td>5.7</td>\n",
              "      <td>4.350000</td>\n",
              "      <td>33.300000</td>\n",
              "      <td>29.65</td>\n",
              "    </tr>\n",
              "    <tr>\n",
              "      <th>37</th>\n",
              "      <td>2017</td>\n",
              "      <td>690.5</td>\n",
              "      <td>4231</td>\n",
              "      <td>7.6</td>\n",
              "      <td>5.6</td>\n",
              "      <td>4.370000</td>\n",
              "      <td>32.600000</td>\n",
              "      <td>30.51</td>\n",
              "    </tr>\n",
              "    <tr>\n",
              "      <th>38</th>\n",
              "      <td>2018</td>\n",
              "      <td>753.4</td>\n",
              "      <td>4630</td>\n",
              "      <td>7.9</td>\n",
              "      <td>5.6</td>\n",
              "      <td>4.300000</td>\n",
              "      <td>34.000000</td>\n",
              "      <td>31.23</td>\n",
              "    </tr>\n",
              "    <tr>\n",
              "      <th>39</th>\n",
              "      <td>2019</td>\n",
              "      <td>817.6</td>\n",
              "      <td>5028</td>\n",
              "      <td>8.1</td>\n",
              "      <td>5.5</td>\n",
              "      <td>4.290000</td>\n",
              "      <td>33.500000</td>\n",
              "      <td>31.60</td>\n",
              "    </tr>\n",
              "  </tbody>\n",
              "</table>\n",
              "</div>"
            ],
            "text/plain": [
              "    Year   GDP   ...  Government debt  Total Investment\n",
              "0   1980   41.2  ...        37.694118             14.44\n",
              "1   1981   47.4  ...        37.694118             17.16\n",
              "2   1982   52.0  ...        37.694118             17.36\n",
              "3   1983   56.5  ...        37.694118             16.56\n",
              "4   1984   61.0  ...        37.694118             16.48\n",
              "5   1985   65.3  ...        37.694118             15.83\n",
              "6   1986   69.3  ...        37.694118             16.18\n",
              "7   1987   73.1  ...        37.694118             15.47\n",
              "8   1988   77.5  ...        37.694118             15.74\n",
              "9   1989   84.0  ...        37.694118             16.12\n",
              "10  1990   91.1  ...        37.694118             16.46\n",
              "11  1991   98.1  ...        37.694118             16.90\n",
              "12  1992  105.1  ...        37.694118             17.31\n",
              "13  1993  112.3  ...        37.694118             17.95\n",
              "14  1994  119.9  ...        37.694118             18.40\n",
              "15  1995  128.2  ...        37.694118             19.12\n",
              "16  1996  137.1  ...        37.694118             20.73\n",
              "17  1997  146.8  ...        37.694118             21.82\n",
              "18  1998  155.9  ...        37.694118             22.12\n",
              "19  1999  166.9  ...        37.694118             22.72\n",
              "20  2000  180.2  ...        37.694118             23.81\n",
              "21  2001  193.2  ...        37.694118             24.17\n",
              "22  2002  205.7  ...        37.694118             24.34\n",
              "23  2003  221.9  ...        44.300000             24.68\n",
              "24  2004  241.9  ...        43.500000             24.99\n",
              "25  2005  265.5  ...        42.300000             25.83\n",
              "26  2006  291.4  ...        42.300000             26.14\n",
              "27  2007  319.7  ...        41.900000             26.18\n",
              "28  2008  344.0  ...        40.600000             26.20\n",
              "29  2009  365.0  ...        39.500000             26.21\n",
              "30  2010  391.7  ...        35.500000             26.25\n",
              "31  2011  425.8  ...        36.600000             27.42\n",
              "32  2012  460.8  ...        36.200000             28.26\n",
              "33  2013  496.5  ...        35.800000             28.39\n",
              "34  2014  537.3  ...        35.300000             28.58\n",
              "35  2015  581.6  ...        33.600000             28.89\n",
              "36  2016  629.9  ...        33.300000             29.65\n",
              "37  2017  690.5  ...        32.600000             30.51\n",
              "38  2018  753.4  ...        34.000000             31.23\n",
              "39  2019  817.6  ...        33.500000             31.60\n",
              "\n",
              "[40 rows x 8 columns]"
            ]
          },
          "metadata": {
            "tags": []
          },
          "execution_count": 12
        }
      ]
    },
    {
      "cell_type": "code",
      "metadata": {
        "id": "lhclzR_SqzAP",
        "outputId": "c7a55e2e-fb10-4dd3-d146-6c741a971f24",
        "colab": {
          "base_uri": "https://localhost:8080/",
          "height": 281
        }
      },
      "source": [
        "df.info()"
      ],
      "execution_count": 13,
      "outputs": [
        {
          "output_type": "stream",
          "text": [
            "<class 'pandas.core.frame.DataFrame'>\n",
            "RangeIndex: 40 entries, 0 to 39\n",
            "Data columns (total 8 columns):\n",
            " #   Column            Non-Null Count  Dtype  \n",
            "---  ------            --------------  -----  \n",
            " 0   Year              40 non-null     int64  \n",
            " 1   GDP               40 non-null     float64\n",
            " 2   GDP per capita    40 non-null     int64  \n",
            " 3   GDP growth        40 non-null     float64\n",
            " 4   Inflation rate    40 non-null     float64\n",
            " 5   Unemployed rate   40 non-null     float64\n",
            " 6   Government debt   40 non-null     float64\n",
            " 7   Total Investment  40 non-null     float64\n",
            "dtypes: float64(6), int64(2)\n",
            "memory usage: 2.6 KB\n"
          ],
          "name": "stdout"
        }
      ]
    },
    {
      "cell_type": "code",
      "metadata": {
        "id": "vByxeW5Sru4K",
        "outputId": "4c056ceb-bd5e-4ef4-8efe-edfdb44302a3",
        "colab": {
          "base_uri": "https://localhost:8080/",
          "height": 284
        }
      },
      "source": [
        "df.describe(include=\"all\").T"
      ],
      "execution_count": 14,
      "outputs": [
        {
          "output_type": "execute_result",
          "data": {
            "text/html": [
              "<div>\n",
              "<style scoped>\n",
              "    .dataframe tbody tr th:only-of-type {\n",
              "        vertical-align: middle;\n",
              "    }\n",
              "\n",
              "    .dataframe tbody tr th {\n",
              "        vertical-align: top;\n",
              "    }\n",
              "\n",
              "    .dataframe thead th {\n",
              "        text-align: right;\n",
              "    }\n",
              "</style>\n",
              "<table border=\"1\" class=\"dataframe\">\n",
              "  <thead>\n",
              "    <tr style=\"text-align: right;\">\n",
              "      <th></th>\n",
              "      <th>count</th>\n",
              "      <th>mean</th>\n",
              "      <th>std</th>\n",
              "      <th>min</th>\n",
              "      <th>25%</th>\n",
              "      <th>50%</th>\n",
              "      <th>75%</th>\n",
              "      <th>max</th>\n",
              "    </tr>\n",
              "  </thead>\n",
              "  <tbody>\n",
              "    <tr>\n",
              "      <th>Year</th>\n",
              "      <td>40.0</td>\n",
              "      <td>1999.500000</td>\n",
              "      <td>11.690452</td>\n",
              "      <td>1980.00</td>\n",
              "      <td>1989.750000</td>\n",
              "      <td>1999.500000</td>\n",
              "      <td>2009.250000</td>\n",
              "      <td>2019.0</td>\n",
              "    </tr>\n",
              "    <tr>\n",
              "      <th>GDP</th>\n",
              "      <td>40.0</td>\n",
              "      <td>257.557500</td>\n",
              "      <td>215.532485</td>\n",
              "      <td>41.20</td>\n",
              "      <td>89.325000</td>\n",
              "      <td>173.550000</td>\n",
              "      <td>371.675000</td>\n",
              "      <td>817.6</td>\n",
              "    </tr>\n",
              "    <tr>\n",
              "      <th>GDP per capita</th>\n",
              "      <td>40.0</td>\n",
              "      <td>1799.400000</td>\n",
              "      <td>1236.066939</td>\n",
              "      <td>500.00</td>\n",
              "      <td>836.250000</td>\n",
              "      <td>1322.500000</td>\n",
              "      <td>2478.750000</td>\n",
              "      <td>5028.0</td>\n",
              "    </tr>\n",
              "    <tr>\n",
              "      <th>GDP growth</th>\n",
              "      <td>40.0</td>\n",
              "      <td>5.305000</td>\n",
              "      <td>1.350964</td>\n",
              "      <td>2.40</td>\n",
              "      <td>4.450000</td>\n",
              "      <td>5.300000</td>\n",
              "      <td>6.300000</td>\n",
              "      <td>8.1</td>\n",
              "    </tr>\n",
              "    <tr>\n",
              "      <th>Inflation rate</th>\n",
              "      <td>40.0</td>\n",
              "      <td>7.577500</td>\n",
              "      <td>3.205723</td>\n",
              "      <td>1.90</td>\n",
              "      <td>5.575000</td>\n",
              "      <td>7.000000</td>\n",
              "      <td>9.800000</td>\n",
              "      <td>15.4</td>\n",
              "    </tr>\n",
              "    <tr>\n",
              "      <th>Unemployed rate</th>\n",
              "      <td>40.0</td>\n",
              "      <td>3.608276</td>\n",
              "      <td>0.698567</td>\n",
              "      <td>2.20</td>\n",
              "      <td>3.345000</td>\n",
              "      <td>3.608276</td>\n",
              "      <td>4.260000</td>\n",
              "      <td>5.0</td>\n",
              "    </tr>\n",
              "    <tr>\n",
              "      <th>Government debt</th>\n",
              "      <td>40.0</td>\n",
              "      <td>37.694118</td>\n",
              "      <td>2.581936</td>\n",
              "      <td>32.60</td>\n",
              "      <td>37.420588</td>\n",
              "      <td>37.694118</td>\n",
              "      <td>37.694118</td>\n",
              "      <td>44.3</td>\n",
              "    </tr>\n",
              "    <tr>\n",
              "      <th>Total Investment</th>\n",
              "      <td>40.0</td>\n",
              "      <td>22.455000</td>\n",
              "      <td>5.314517</td>\n",
              "      <td>14.44</td>\n",
              "      <td>17.095000</td>\n",
              "      <td>23.265000</td>\n",
              "      <td>26.220000</td>\n",
              "      <td>31.6</td>\n",
              "    </tr>\n",
              "  </tbody>\n",
              "</table>\n",
              "</div>"
            ],
            "text/plain": [
              "                  count         mean  ...          75%     max\n",
              "Year               40.0  1999.500000  ...  2009.250000  2019.0\n",
              "GDP                40.0   257.557500  ...   371.675000   817.6\n",
              "GDP per capita     40.0  1799.400000  ...  2478.750000  5028.0\n",
              "GDP growth         40.0     5.305000  ...     6.300000     8.1\n",
              "Inflation rate     40.0     7.577500  ...     9.800000    15.4\n",
              "Unemployed rate    40.0     3.608276  ...     4.260000     5.0\n",
              "Government debt    40.0    37.694118  ...    37.694118    44.3\n",
              "Total Investment   40.0    22.455000  ...    26.220000    31.6\n",
              "\n",
              "[8 rows x 8 columns]"
            ]
          },
          "metadata": {
            "tags": []
          },
          "execution_count": 14
        }
      ]
    },
    {
      "cell_type": "code",
      "metadata": {
        "id": "gIza7tN9xD3r",
        "outputId": "f566e72c-9a40-4c03-cd98-a710b1887713",
        "colab": {
          "base_uri": "https://localhost:8080/",
          "height": 630
        }
      },
      "source": [
        "plt.figure(figsize=(14,7))\n",
        "sns.heatmap(df.corr(),annot=True,cmap='BuPu')\n",
        "plt.xticks(fontsize=16,color='green')\n",
        "plt.yticks(fontsize=16,color='green')\n",
        "plt.title(\"Correlation of Parameters\\n\",fontsize=24,fontweight='bold',color='red')"
      ],
      "execution_count": 16,
      "outputs": [
        {
          "output_type": "execute_result",
          "data": {
            "text/plain": [
              "Text(0.5, 1.0, 'Correlation of Parameters\\n')"
            ]
          },
          "metadata": {
            "tags": []
          },
          "execution_count": 16
        },
        {
          "output_type": "display_data",
          "data": {
            "image/png": "[encoded data removed]",
            "text/plain": [
              "<Figure size 1008x504 with 2 Axes>"
            ]
          },
          "metadata": {
            "tags": [],
            "needs_background": "light"
          }
        }
      ]
    },
    {
      "cell_type": "markdown",
      "metadata": {
        "id": "9KYwXSEG2kJ1"
      },
      "source": [
        "<h2><u><center><font color=\"blue\" size=10>Time Series Analysis of Data</center></u></h2>"
      ]
    },
    {
      "cell_type": "code",
      "metadata": {
        "id": "VpNDF2HS-ir5"
      },
      "source": [
        "df1 = df.set_index('Year')"
      ],
      "execution_count": 19,
      "outputs": []
    },
    {
      "cell_type": "code",
      "metadata": {
        "id": "ExIw9Bkb3vib",
        "outputId": "fdef2b78-4608-4294-93cb-8ff64aee97f2",
        "colab": {
          "base_uri": "https://localhost:8080/",
          "height": 513
        }
      },
      "source": [
        "plt.figure(figsize=(18,7))\n",
        "df1['GDP '].plot()\n",
        "plt.xticks(fontsize=16,color='blue')\n",
        "plt.xlabel('Years',fontsize=16,color='blue')\n",
        "plt.ylabel('Amount of rise',fontsize=16,color='green')\n",
        "plt.yticks(fontsize=16,color='green')\n",
        "plt.title('GDP rise with years\\n',fontsize=20,fontweight='bold',color='orange')"
      ],
      "execution_count": 20,
      "outputs": [
        {
          "output_type": "execute_result",
          "data": {
            "text/plain": [
              "Text(0.5, 1.0, 'GDP rise with years\\n')"
            ]
          },
          "metadata": {
            "tags": []
          },
          "execution_count": 20
        },
        {
          "output_type": "display_data",
          "data": {
            "image/png": "[encoded data removed]",
            "text/plain": [
              "<Figure size 1296x504 with 1 Axes>"
            ]
          },
          "metadata": {
            "tags": [],
            "needs_background": "light"
          }
        }
      ]
    },
    {
      "cell_type": "code",
      "metadata": {
        "id": "WPsFPf1S-QjY",
        "outputId": "397e2357-3a42-460b-dc78-6297e82fcc77",
        "colab": {
          "base_uri": "https://localhost:8080/",
          "height": 513
        }
      },
      "source": [
        "plt.figure(figsize=(18,7))\n",
        "df1['GDP per capita'].plot(color='red')\n",
        "plt.xticks(fontsize=16,color='green')\n",
        "plt.xlabel('Years',fontsize=16,color='green')\n",
        "plt.ylabel('Amount of rise',fontsize=16,color='red')\n",
        "plt.yticks(fontsize=16,color='red')\n",
        "plt.title('GDP per capita rise with years\\n',fontsize=20,fontweight='bold',color='orange')"
      ],
      "execution_count": 22,
      "outputs": [
        {
          "output_type": "execute_result",
          "data": {
            "text/plain": [
              "Text(0.5, 1.0, 'GDP per capita rise with years\\n')"
            ]
          },
          "metadata": {
            "tags": []
          },
          "execution_count": 22
        },
        {
          "output_type": "display_data",
          "data": {
            "image/png": "[encoded data removed]",
            "text/plain": [
              "<Figure size 1296x504 with 1 Axes>"
            ]
          },
          "metadata": {
            "tags": [],
            "needs_background": "light"
          }
        }
      ]
    },
    {
      "cell_type": "code",
      "metadata": {
        "id": "jNrEETrV4L6G",
        "outputId": "02ab338f-dcab-4f47-e3ea-7b9534dbc383",
        "colab": {
          "base_uri": "https://localhost:8080/",
          "height": 723
        }
      },
      "source": [
        "# importing pmdarima package\n",
        "\n",
        "!pip install pmdarima"
      ],
      "execution_count": 23,
      "outputs": [
        {
          "output_type": "stream",
          "text": [
            "Collecting pmdarima\n",
            "\u001b[?25l  Downloading https://files.pythonhosted.org/packages/be/62/725b3b6ae0e56c77534de5a8139322e7b863ca53fd5bd6bd3b7de87d0c20/pmdarima-1.7.1-cp36-cp36m-manylinux1_x86_64.whl (1.5MB)\n",
            "\u001b[K     |████████████████████████████████| 1.5MB 2.8MB/s \n",
            "\u001b[?25hRequirement already satisfied: scikit-learn>=0.22 in /usr/local/lib/python3.6/dist-packages (from pmdarima) (0.22.2.post1)\n",
            "Collecting statsmodels<0.12,>=0.11\n",
            "\u001b[?25l  Downloading https://files.pythonhosted.org/packages/cb/83/540fd83238a18abe6c2d280fa8e489ac5fcefa1f370f0ca1acd16ae1b860/statsmodels-0.11.1-cp36-cp36m-manylinux1_x86_64.whl (8.7MB)\n",
            "\u001b[K     |████████████████████████████████| 8.7MB 17.9MB/s \n",
            "\u001b[?25hRequirement already satisfied: pandas>=0.19 in /usr/local/lib/python3.6/dist-packages (from pmdarima) (1.1.2)\n",
            "Collecting setuptools<50.0.0\n",
            "\u001b[?25l  Downloading https://files.pythonhosted.org/packages/c3/a9/5dc32465951cf4812e9e93b4ad2d314893c2fa6d5f66ce5c057af6e76d85/setuptools-49.6.0-py3-none-any.whl (803kB)\n",
            "\u001b[K     |████████████████████████████████| 808kB 47.7MB/s \n",
            "\u001b[?25hCollecting Cython<0.29.18,>=0.29\n",
            "\u001b[?25l  Downloading https://files.pythonhosted.org/packages/e7/d7/510ddef0248f3e1e91f9cc7e31c0f35f8954d0af92c5c3fd4c853e859ebe/Cython-0.29.17-cp36-cp36m-manylinux1_x86_64.whl (2.1MB)\n",
            "\u001b[K     |████████████████████████████████| 2.1MB 45.5MB/s \n",
            "\u001b[?25hRequirement already satisfied: numpy>=1.17.3 in /usr/local/lib/python3.6/dist-packages (from pmdarima) (1.18.5)\n",
            "Requirement already satisfied: urllib3 in /usr/local/lib/python3.6/dist-packages (from pmdarima) (1.24.3)\n",
            "Requirement already satisfied: scipy>=1.3.2 in /usr/local/lib/python3.6/dist-packages (from pmdarima) (1.4.1)\n",
            "Requirement already satisfied: joblib>=0.11 in /usr/local/lib/python3.6/dist-packages (from pmdarima) (0.16.0)\n",
            "Requirement already satisfied: patsy>=0.5 in /usr/local/lib/python3.6/dist-packages (from statsmodels<0.12,>=0.11->pmdarima) (0.5.1)\n",
            "Requirement already satisfied: python-dateutil>=2.7.3 in /usr/local/lib/python3.6/dist-packages (from pandas>=0.19->pmdarima) (2.8.1)\n",
            "Requirement already satisfied: pytz>=2017.2 in /usr/local/lib/python3.6/dist-packages (from pandas>=0.19->pmdarima) (2018.9)\n",
            "Requirement already satisfied: six in /usr/local/lib/python3.6/dist-packages (from patsy>=0.5->statsmodels<0.12,>=0.11->pmdarima) (1.15.0)\n",
            "\u001b[31mERROR: datascience 0.10.6 has requirement folium==0.2.1, but you'll have folium 0.8.3 which is incompatible.\u001b[0m\n",
            "Installing collected packages: statsmodels, setuptools, Cython, pmdarima\n",
            "  Found existing installation: statsmodels 0.10.2\n",
            "    Uninstalling statsmodels-0.10.2:\n",
            "      Successfully uninstalled statsmodels-0.10.2\n",
            "  Found existing installation: setuptools 50.3.0\n",
            "    Uninstalling setuptools-50.3.0:\n",
            "      Successfully uninstalled setuptools-50.3.0\n",
            "  Found existing installation: Cython 0.29.21\n",
            "    Uninstalling Cython-0.29.21:\n",
            "      Successfully uninstalled Cython-0.29.21\n",
            "Successfully installed Cython-0.29.17 pmdarima-1.7.1 setuptools-49.6.0 statsmodels-0.11.1\n"
          ],
          "name": "stdout"
        },
        {
          "output_type": "display_data",
          "data": {
            "application/vnd.colab-display-data+json": {
              "pip_warning": {
                "packages": [
                  "pkg_resources",
                  "statsmodels"
                ]
              }
            }
          },
          "metadata": {
            "tags": []
          }
        }
      ]
    },
    {
      "cell_type": "code",
      "metadata": {
        "id": "vAp8CSCP5dWx",
        "outputId": "9bc4c419-c802-4e90-960d-393d9521aaba",
        "colab": {
          "base_uri": "https://localhost:8080/",
          "height": 301
        }
      },
      "source": [
        "!pip install folium==0.2.1"
      ],
      "execution_count": 24,
      "outputs": [
        {
          "output_type": "stream",
          "text": [
            "Collecting folium==0.2.1\n",
            "\u001b[?25l  Downloading https://files.pythonhosted.org/packages/72/dd/75ced7437bfa7cb9a88b96ee0177953062803c3b4cde411a97d98c35adaf/folium-0.2.1.tar.gz (69kB)\n",
            "\r\u001b[K     |████▊                           | 10kB 16.3MB/s eta 0:00:01\r\u001b[K     |█████████▍                      | 20kB 1.7MB/s eta 0:00:01\r\u001b[K     |██████████████                  | 30kB 2.1MB/s eta 0:00:01\r\u001b[K     |██████████████████▊             | 40kB 2.4MB/s eta 0:00:01\r\u001b[K     |███████████████████████▍        | 51kB 2.0MB/s eta 0:00:01\r\u001b[K     |████████████████████████████    | 61kB 2.2MB/s eta 0:00:01\r\u001b[K     |████████████████████████████████| 71kB 2.0MB/s \n",
            "\u001b[?25hRequirement already satisfied: Jinja2 in /usr/local/lib/python3.6/dist-packages (from folium==0.2.1) (2.11.2)\n",
            "Requirement already satisfied: MarkupSafe>=0.23 in /usr/local/lib/python3.6/dist-packages (from Jinja2->folium==0.2.1) (1.1.1)\n",
            "Building wheels for collected packages: folium\n",
            "  Building wheel for folium (setup.py) ... \u001b[?25l\u001b[?25hdone\n",
            "  Created wheel for folium: filename=folium-0.2.1-cp36-none-any.whl size=79980 sha256=97110f97aed51d27dfd5365a487484e93a3ee20020afc246ea65f3ab3bdda806\n",
            "  Stored in directory: /root/.cache/pip/wheels/b8/09/f0/52d2ef419c2aaf4fb149f92a33e0008bdce7ae816f0dd8f0c5\n",
            "Successfully built folium\n",
            "Installing collected packages: folium\n",
            "  Found existing installation: folium 0.8.3\n",
            "    Uninstalling folium-0.8.3:\n",
            "      Successfully uninstalled folium-0.8.3\n",
            "Successfully installed folium-0.2.1\n"
          ],
          "name": "stdout"
        }
      ]
    },
    {
      "cell_type": "code",
      "metadata": {
        "id": "x7XwCpjA5xsf"
      },
      "source": [
        "import pmdarima as pm\n",
        "from pmdarima.model_selection import train_test_split"
      ],
      "execution_count": 25,
      "outputs": []
    },
    {
      "cell_type": "code",
      "metadata": {
        "id": "RccQmEz46AEa"
      },
      "source": [
        "train = df[:30].values.reshape(-1,1)\n",
        "valid = df[31:].values.reshape(-1,1)"
      ],
      "execution_count": 26,
      "outputs": []
    },
    {
      "cell_type": "code",
      "metadata": {
        "id": "N8I0JcGp6OTC",
        "outputId": "f45cc990-0c35-4e8e-c443-8147d2ee37c0",
        "colab": {
          "base_uri": "https://localhost:8080/",
          "height": 1000
        }
      },
      "source": [
        "# Fit your model\n",
        "model = pm.auto_arima(train, seasonal=True, m=6)"
      ],
      "execution_count": 27,
      "outputs": [
        {
          "output_type": "stream",
          "text": [
            "/usr/local/lib/python3.6/dist-packages/statsmodels/tsa/statespace/sarimax.py:975: UserWarning:\n",
            "\n",
            "Non-invertible starting MA parameters found. Using zeros as starting parameters.\n",
            "\n",
            "/usr/local/lib/python3.6/dist-packages/statsmodels/base/model.py:568: ConvergenceWarning:\n",
            "\n",
            "Maximum Likelihood optimization failed to converge. Check mle_retvals\n",
            "\n",
            "/usr/local/lib/python3.6/dist-packages/statsmodels/base/model.py:568: ConvergenceWarning:\n",
            "\n",
            "Maximum Likelihood optimization failed to converge. Check mle_retvals\n",
            "\n",
            "/usr/local/lib/python3.6/dist-packages/statsmodels/base/model.py:568: ConvergenceWarning:\n",
            "\n",
            "Maximum Likelihood optimization failed to converge. Check mle_retvals\n",
            "\n",
            "/usr/local/lib/python3.6/dist-packages/statsmodels/base/model.py:568: ConvergenceWarning:\n",
            "\n",
            "Maximum Likelihood optimization failed to converge. Check mle_retvals\n",
            "\n",
            "/usr/local/lib/python3.6/dist-packages/pmdarima/arima/_auto_solvers.py:437: ModelFitWarning:\n",
            "\n",
            "Error fitting  ARIMA(1,0,1)(2,0,1)[6] intercept (if you do not want to see these warnings, run with error_action=\"ignore\").\n",
            "Traceback:\n",
            "Traceback (most recent call last):\n",
            "  File \"/usr/local/lib/python3.6/dist-packages/pmdarima/arima/_auto_solvers.py\", line 421, in _fit_candidate_model\n",
            "    fit.fit(x, exogenous=xreg, **fit_params)\n",
            "  File \"/usr/local/lib/python3.6/dist-packages/pmdarima/arima/arima.py\", line 472, in fit\n",
            "    self._fit(y, exogenous, **fit_args)\n",
            "  File \"/usr/local/lib/python3.6/dist-packages/pmdarima/arima/arima.py\", line 397, in _fit\n",
            "    fit, self.arima_res_ = _fit_wrapper()\n",
            "  File \"/usr/local/lib/python3.6/dist-packages/pmdarima/arima/arima.py\", line 389, in _fit_wrapper\n",
            "    **fit_args)\n",
            "  File \"/usr/local/lib/python3.6/dist-packages/statsmodels/tsa/statespace/mlemodel.py\", line 659, in fit\n",
            "    skip_hessian=True, **kwargs)\n",
            "  File \"/usr/local/lib/python3.6/dist-packages/statsmodels/base/model.py\", line 526, in fit\n",
            "    full_output=full_output)\n",
            "  File \"/usr/local/lib/python3.6/dist-packages/statsmodels/base/optimizer.py\", line 218, in _fit\n",
            "    hess=hessian)\n",
            "  File \"/usr/local/lib/python3.6/dist-packages/statsmodels/base/optimizer.py\", line 440, in _fit_lbfgs\n",
            "    **extra_kwargs)\n",
            "  File \"/usr/local/lib/python3.6/dist-packages/scipy/optimize/lbfgsb.py\", line 199, in fmin_l_bfgs_b\n",
            "    **opts)\n",
            "  File \"/usr/local/lib/python3.6/dist-packages/scipy/optimize/lbfgsb.py\", line 345, in _minimize_lbfgsb\n",
            "    f, g = func_and_grad(x)\n",
            "  File \"/usr/local/lib/python3.6/dist-packages/scipy/optimize/lbfgsb.py\", line 290, in func_and_grad\n",
            "    f = fun(x, *args)\n",
            "  File \"/usr/local/lib/python3.6/dist-packages/scipy/optimize/optimize.py\", line 327, in function_wrapper\n",
            "    return function(*(wrapper_args + args))\n",
            "  File \"/usr/local/lib/python3.6/dist-packages/statsmodels/base/model.py\", line 500, in f\n",
            "    return -self.loglike(params, *args) / nobs\n",
            "  File \"/usr/local/lib/python3.6/dist-packages/statsmodels/tsa/statespace/mlemodel.py\", line 889, in loglike\n",
            "    loglike = self.ssm.loglike(complex_step=complex_step, **kwargs)\n",
            "  File \"/usr/local/lib/python3.6/dist-packages/statsmodels/tsa/statespace/kalman_filter.py\", line 977, in loglike\n",
            "    kfilter = self._filter(**kwargs)\n",
            "  File \"/usr/local/lib/python3.6/dist-packages/statsmodels/tsa/statespace/kalman_filter.py\", line 897, in _filter\n",
            "    self._initialize_state(prefix=prefix, complex_step=complex_step)\n",
            "  File \"/usr/local/lib/python3.6/dist-packages/statsmodels/tsa/statespace/representation.py\", line 950, in _initialize_state\n",
            "    complex_step=complex_step)\n",
            "  File \"statsmodels/tsa/statespace/_representation.pyx\", line 1334, in statsmodels.tsa.statespace._representation.dStatespace.initialize\n",
            "  File \"statsmodels/tsa/statespace/_initialization.pyx\", line 288, in statsmodels.tsa.statespace._initialization.dInitialization.initialize\n",
            "  File \"statsmodels/tsa/statespace/_initialization.pyx\", line 406, in statsmodels.tsa.statespace._initialization.dInitialization.initialize_stationary_stationary_cov\n",
            "  File \"statsmodels/tsa/statespace/_tools.pyx\", line 1206, in statsmodels.tsa.statespace._tools._dsolve_discrete_lyapunov\n",
            "numpy.linalg.LinAlgError: LU decomposition error.\n",
            "\n",
            "\n",
            "/usr/local/lib/python3.6/dist-packages/statsmodels/base/model.py:568: ConvergenceWarning:\n",
            "\n",
            "Maximum Likelihood optimization failed to converge. Check mle_retvals\n",
            "\n",
            "/usr/local/lib/python3.6/dist-packages/statsmodels/base/model.py:568: ConvergenceWarning:\n",
            "\n",
            "Maximum Likelihood optimization failed to converge. Check mle_retvals\n",
            "\n",
            "/usr/local/lib/python3.6/dist-packages/statsmodels/base/model.py:568: ConvergenceWarning:\n",
            "\n",
            "Maximum Likelihood optimization failed to converge. Check mle_retvals\n",
            "\n",
            "/usr/local/lib/python3.6/dist-packages/statsmodels/base/model.py:568: ConvergenceWarning:\n",
            "\n",
            "Maximum Likelihood optimization failed to converge. Check mle_retvals\n",
            "\n",
            "/usr/local/lib/python3.6/dist-packages/statsmodels/base/model.py:568: ConvergenceWarning:\n",
            "\n",
            "Maximum Likelihood optimization failed to converge. Check mle_retvals\n",
            "\n",
            "/usr/local/lib/python3.6/dist-packages/statsmodels/base/model.py:568: ConvergenceWarning:\n",
            "\n",
            "Maximum Likelihood optimization failed to converge. Check mle_retvals\n",
            "\n"
          ],
          "name": "stderr"
        }
      ]
    },
    {
      "cell_type": "code",
      "metadata": {
        "id": "WMD4A36N7gqb",
        "outputId": "99f4cb5e-2786-4b65-bb73-acdcc119545a",
        "colab": {
          "base_uri": "https://localhost:8080/",
          "height": 418
        }
      },
      "source": [
        "plt.figure(figsize=(18,7))\n",
        "sns.lmplot(x='GDP growth',y='Government debt',data=df)"
      ],
      "execution_count": 28,
      "outputs": [
        {
          "output_type": "execute_result",
          "data": {
            "text/plain": [
              "<seaborn.axisgrid.FacetGrid at 0x7f45ee0d1e48>"
            ]
          },
          "metadata": {
            "tags": []
          },
          "execution_count": 28
        },
        {
          "output_type": "display_data",
          "data": {
            "text/plain": [
              "<Figure size 1296x504 with 0 Axes>"
            ]
          },
          "metadata": {
            "tags": []
          }
        },
        {
          "output_type": "display_data",
          "data": {
            "image/png": "[encoded data removed]",
            "text/plain": [
              "<Figure size 360x360 with 1 Axes>"
            ]
          },
          "metadata": {
            "tags": [],
            "needs_background": "light"
          }
        }
      ]
    },
    {
      "cell_type": "code",
      "metadata": {
        "id": "JNehvq_X8LrA",
        "outputId": "608040db-e92b-4712-d97e-4ab745f3ff42",
        "colab": {
          "base_uri": "https://localhost:8080/",
          "height": 513
        }
      },
      "source": [
        "plt.figure(figsize=(18,7))\n",
        "sns.barplot(x='GDP growth',y='Total Investment',data=df)\n",
        "plt.xticks(fontsize=16,color='green')\n",
        "plt.xlabel('GDP growth',fontsize=16,color='red')\n",
        "plt.ylabel('Total investment',fontsize=16,color='green')\n",
        "plt.yticks(fontsize=16,color='red')\n",
        "plt.title('GDP growth vs Total Investment\\n',fontsize=20,fontweight='bold',color='orange')"
      ],
      "execution_count": 30,
      "outputs": [
        {
          "output_type": "execute_result",
          "data": {
            "text/plain": [
              "Text(0.5, 1.0, 'GDP growth vs Total Investment\\n')"
            ]
          },
          "metadata": {
            "tags": []
          },
          "execution_count": 30
        },
        {
          "output_type": "display_data",
          "data": {
            "image/png": "[encoded data removed]",
            "text/plain": [
              "<Figure size 1296x504 with 1 Axes>"
            ]
          },
          "metadata": {
            "tags": [],
            "needs_background": "light"
          }
        }
      ]
    },
    {
      "cell_type": "code",
      "metadata": {
        "id": "s6ovwpsh9A2e",
        "outputId": "46013c18-8eef-445a-d158-18b285689346",
        "colab": {
          "base_uri": "https://localhost:8080/",
          "height": 513
        }
      },
      "source": [
        "plt.figure(figsize=(18,7))\n",
        "df['Inflation rate'].plot()\n",
        "df['Government debt'].plot()\n",
        "plt.xticks(fontsize=16,color='blue')\n",
        "plt.xlabel('Years',fontsize=16,color='red')\n",
        "plt.ylabel('Amount of rise',fontsize=16,color='red')\n",
        "plt.yticks(fontsize=16,color='blue')\n",
        "plt.title('GDP effect on Inflation and Government debts\\n',fontsize=20,fontweight='bold',color='orange')"
      ],
      "execution_count": 31,
      "outputs": [
        {
          "output_type": "execute_result",
          "data": {
            "text/plain": [
              "Text(0.5, 1.0, 'GDP effect on Inflation and Government debts\\n')"
            ]
          },
          "metadata": {
            "tags": []
          },
          "execution_count": 31
        },
        {
          "output_type": "display_data",
          "data": {
            "image/png": "[encoded data removed]",
            "text/plain": [
              "<Figure size 1296x504 with 1 Axes>"
            ]
          },
          "metadata": {
            "tags": [],
            "needs_background": "light"
          }
        }
      ]
    },
    {
      "cell_type": "code",
      "metadata": {
        "id": "T9RJSgBH9RPo",
        "outputId": "1b327891-73c5-4ee7-e108-578651ba47c2",
        "colab": {
          "base_uri": "https://localhost:8080/",
          "height": 513
        }
      },
      "source": [
        "plt.figure(figsize=(18,7))\n",
        "sns.set_style('darkgrid')\n",
        "sns.scatterplot(x='GDP growth',y='Unemployed rate',data=df)\n",
        "plt.xticks(fontsize=16,color='green')\n",
        "plt.xlabel('Years',fontsize=16,color='blue')\n",
        "plt.ylabel('Amount of rise',fontsize=16,color='green')\n",
        "plt.yticks(fontsize=16,color='red')\n",
        "plt.title('GDP growth vs Umemployed rate\\n',fontsize=20,fontweight='bold',color='orange')"
      ],
      "execution_count": 33,
      "outputs": [
        {
          "output_type": "execute_result",
          "data": {
            "text/plain": [
              "Text(0.5, 1.0, 'GDP growth vs Umemployed rate\\n')"
            ]
          },
          "metadata": {
            "tags": []
          },
          "execution_count": 33
        },
        {
          "output_type": "display_data",
          "data": {
            "image/png": "[encoded data removed]",
            "text/plain": [
              "<Figure size 1296x504 with 1 Axes>"
            ]
          },
          "metadata": {
            "tags": []
          }
        }
      ]
    },
    {
      "cell_type": "code",
      "metadata": {
        "id": "tphE6ZoS_Dmm"
      },
      "source": [
        ""
      ],
      "execution_count": null,
      "outputs": []
    }
  ]
}