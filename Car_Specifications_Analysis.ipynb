{
  "nbformat": 4,
  "nbformat_minor": 0,
  "metadata": {
    "colab": {
      "name": "Car Specifications Analysis.ipynb",
      "provenance": [],
      "authorship_tag": "ABX9TyM4+gxGtKWy1KzBM5TGS+TX",
      "include_colab_link": true
    },
    "kernelspec": {
      "name": "python3",
      "display_name": "Python 3"
    }
  },
  "cells": [
    {
      "cell_type": "markdown",
      "metadata": {
        "id": "view-in-github",
        "colab_type": "text"
      },
      "source": [
        "<a href=\"https://colab.research.google.com/github/MainakRepositor/Data-Analysis/blob/master/Car_Specifications_Analysis.ipynb\" target=\"_parent\"><img src=\"https://colab.research.google.com/assets/colab-badge.svg\" alt=\"Open In Colab\"/></a>"
      ]
    },
    {
      "cell_type": "markdown",
      "metadata": {
        "id": "_oacfABHqfHx"
      },
      "source": [
        "<h1><u><center><font color='indigo' size=10>CAR SPECIFICATIONS ANALYSIS</font></center></u></h1>"
      ]
    },
    {
      "cell_type": "markdown",
      "metadata": {
        "id": "lN7C0xt9qws3"
      },
      "source": [
        "# 1. Importing necessary libraries"
      ]
    },
    {
      "cell_type": "code",
      "metadata": {
        "id": "VQ9MMsqxpkkd",
        "outputId": "09e27b7d-663f-44b8-ffce-64c8f9f0cffc",
        "colab": {
          "base_uri": "https://localhost:8080/",
          "height": 34
        }
      },
      "source": [
        "import pandas as pd\n",
        "import numpy as np\n",
        "import matplotlib.pyplot as plt\n",
        "%matplotlib inline\n",
        "import seaborn as sns\n",
        "sns.set_style('darkgrid')\n",
        "print(\"All necessary packages are included successfully!\")"
      ],
      "execution_count": 33,
      "outputs": [
        {
          "output_type": "stream",
          "text": [
            "All necessary packages are included successfully!\n"
          ],
          "name": "stdout"
        }
      ]
    },
    {
      "cell_type": "markdown",
      "metadata": {
        "id": "VpyFOge2rLjT"
      },
      "source": [
        "# 2. Importing the datasets"
      ]
    },
    {
      "cell_type": "code",
      "metadata": {
        "id": "g9tfupAFpcyY",
        "outputId": "4888563d-d7f8-40b4-8b94-11603931249c",
        "colab": {
          "base_uri": "https://localhost:8080/",
          "height": 378
        }
      },
      "source": [
        "url = 'https://raw.githubusercontent.com/MainakRepositor/Datasets-/master/auto-mpg.csv'\n",
        "df = pd.read_csv(url,error_bad_lines=False)\n",
        "print(\"Displaying top 10 values of the dataset\\n\")\n",
        "df.head(10)"
      ],
      "execution_count": 34,
      "outputs": [
        {
          "output_type": "stream",
          "text": [
            "Displaying top 10 values of the dataset\n",
            "\n"
          ],
          "name": "stdout"
        },
        {
          "output_type": "execute_result",
          "data": {
            "text/html": [
              "<div>\n",
              "<style scoped>\n",
              "    .dataframe tbody tr th:only-of-type {\n",
              "        vertical-align: middle;\n",
              "    }\n",
              "\n",
              "    .dataframe tbody tr th {\n",
              "        vertical-align: top;\n",
              "    }\n",
              "\n",
              "    .dataframe thead th {\n",
              "        text-align: right;\n",
              "    }\n",
              "</style>\n",
              "<table border=\"1\" class=\"dataframe\">\n",
              "  <thead>\n",
              "    <tr style=\"text-align: right;\">\n",
              "      <th></th>\n",
              "      <th>mpg</th>\n",
              "      <th>cylinders</th>\n",
              "      <th>displacement</th>\n",
              "      <th>horsepower</th>\n",
              "      <th>weight</th>\n",
              "      <th>acceleration</th>\n",
              "      <th>model year</th>\n",
              "      <th>origin</th>\n",
              "      <th>car name</th>\n",
              "    </tr>\n",
              "  </thead>\n",
              "  <tbody>\n",
              "    <tr>\n",
              "      <th>0</th>\n",
              "      <td>18.0</td>\n",
              "      <td>8</td>\n",
              "      <td>307.0</td>\n",
              "      <td>130</td>\n",
              "      <td>3504</td>\n",
              "      <td>12.0</td>\n",
              "      <td>70</td>\n",
              "      <td>1</td>\n",
              "      <td>chevrolet chevelle malibu</td>\n",
              "    </tr>\n",
              "    <tr>\n",
              "      <th>1</th>\n",
              "      <td>15.0</td>\n",
              "      <td>8</td>\n",
              "      <td>350.0</td>\n",
              "      <td>165</td>\n",
              "      <td>3693</td>\n",
              "      <td>11.5</td>\n",
              "      <td>70</td>\n",
              "      <td>1</td>\n",
              "      <td>buick skylark 320</td>\n",
              "    </tr>\n",
              "    <tr>\n",
              "      <th>2</th>\n",
              "      <td>18.0</td>\n",
              "      <td>8</td>\n",
              "      <td>318.0</td>\n",
              "      <td>150</td>\n",
              "      <td>3436</td>\n",
              "      <td>11.0</td>\n",
              "      <td>70</td>\n",
              "      <td>1</td>\n",
              "      <td>plymouth satellite</td>\n",
              "    </tr>\n",
              "    <tr>\n",
              "      <th>3</th>\n",
              "      <td>16.0</td>\n",
              "      <td>8</td>\n",
              "      <td>304.0</td>\n",
              "      <td>150</td>\n",
              "      <td>3433</td>\n",
              "      <td>12.0</td>\n",
              "      <td>70</td>\n",
              "      <td>1</td>\n",
              "      <td>amc rebel sst</td>\n",
              "    </tr>\n",
              "    <tr>\n",
              "      <th>4</th>\n",
              "      <td>17.0</td>\n",
              "      <td>8</td>\n",
              "      <td>302.0</td>\n",
              "      <td>140</td>\n",
              "      <td>3449</td>\n",
              "      <td>10.5</td>\n",
              "      <td>70</td>\n",
              "      <td>1</td>\n",
              "      <td>ford torino</td>\n",
              "    </tr>\n",
              "    <tr>\n",
              "      <th>5</th>\n",
              "      <td>15.0</td>\n",
              "      <td>8</td>\n",
              "      <td>429.0</td>\n",
              "      <td>198</td>\n",
              "      <td>4341</td>\n",
              "      <td>10.0</td>\n",
              "      <td>70</td>\n",
              "      <td>1</td>\n",
              "      <td>ford galaxie 500</td>\n",
              "    </tr>\n",
              "    <tr>\n",
              "      <th>6</th>\n",
              "      <td>14.0</td>\n",
              "      <td>8</td>\n",
              "      <td>454.0</td>\n",
              "      <td>220</td>\n",
              "      <td>4354</td>\n",
              "      <td>9.0</td>\n",
              "      <td>70</td>\n",
              "      <td>1</td>\n",
              "      <td>chevrolet impala</td>\n",
              "    </tr>\n",
              "    <tr>\n",
              "      <th>7</th>\n",
              "      <td>14.0</td>\n",
              "      <td>8</td>\n",
              "      <td>440.0</td>\n",
              "      <td>215</td>\n",
              "      <td>4312</td>\n",
              "      <td>8.5</td>\n",
              "      <td>70</td>\n",
              "      <td>1</td>\n",
              "      <td>plymouth fury iii</td>\n",
              "    </tr>\n",
              "    <tr>\n",
              "      <th>8</th>\n",
              "      <td>14.0</td>\n",
              "      <td>8</td>\n",
              "      <td>455.0</td>\n",
              "      <td>225</td>\n",
              "      <td>4425</td>\n",
              "      <td>10.0</td>\n",
              "      <td>70</td>\n",
              "      <td>1</td>\n",
              "      <td>pontiac catalina</td>\n",
              "    </tr>\n",
              "    <tr>\n",
              "      <th>9</th>\n",
              "      <td>15.0</td>\n",
              "      <td>8</td>\n",
              "      <td>390.0</td>\n",
              "      <td>190</td>\n",
              "      <td>3850</td>\n",
              "      <td>8.5</td>\n",
              "      <td>70</td>\n",
              "      <td>1</td>\n",
              "      <td>amc ambassador dpl</td>\n",
              "    </tr>\n",
              "  </tbody>\n",
              "</table>\n",
              "</div>"
            ],
            "text/plain": [
              "    mpg  cylinders  displacement  ... model year  origin                   car name\n",
              "0  18.0          8         307.0  ...         70       1  chevrolet chevelle malibu\n",
              "1  15.0          8         350.0  ...         70       1          buick skylark 320\n",
              "2  18.0          8         318.0  ...         70       1         plymouth satellite\n",
              "3  16.0          8         304.0  ...         70       1              amc rebel sst\n",
              "4  17.0          8         302.0  ...         70       1                ford torino\n",
              "5  15.0          8         429.0  ...         70       1           ford galaxie 500\n",
              "6  14.0          8         454.0  ...         70       1           chevrolet impala\n",
              "7  14.0          8         440.0  ...         70       1          plymouth fury iii\n",
              "8  14.0          8         455.0  ...         70       1           pontiac catalina\n",
              "9  15.0          8         390.0  ...         70       1         amc ambassador dpl\n",
              "\n",
              "[10 rows x 9 columns]"
            ]
          },
          "metadata": {
            "tags": []
          },
          "execution_count": 34
        }
      ]
    },
    {
      "cell_type": "markdown",
      "metadata": {
        "id": "6K-VBKMIrjc9"
      },
      "source": [
        "# 3. Exploring the dataset"
      ]
    },
    {
      "cell_type": "code",
      "metadata": {
        "id": "0FeUIL-orgBg",
        "outputId": "668953d4-5fb8-4bf1-e6f2-c56ce26d4ae4",
        "colab": {
          "base_uri": "https://localhost:8080/",
          "height": 52
        }
      },
      "source": [
        "# Number of rows and columns in the dataset\n",
        "r,c = df.shape \n",
        "print(\"Number of columns in the dataset = \",c)\n",
        "print(\"Number of rows in the dataset    = \",r)"
      ],
      "execution_count": 35,
      "outputs": [
        {
          "output_type": "stream",
          "text": [
            "Number of columns in the dataset =  9\n",
            "Number of rows in the dataset    =  398\n"
          ],
          "name": "stdout"
        }
      ]
    },
    {
      "cell_type": "code",
      "metadata": {
        "id": "x7TrktfFrxpx",
        "outputId": "4d518765-82c5-437e-836c-87a49e99e3ea",
        "colab": {
          "base_uri": "https://localhost:8080/",
          "height": 298
        }
      },
      "source": [
        "# Information about the dataset columns\n",
        "df.info()"
      ],
      "execution_count": 36,
      "outputs": [
        {
          "output_type": "stream",
          "text": [
            "<class 'pandas.core.frame.DataFrame'>\n",
            "RangeIndex: 398 entries, 0 to 397\n",
            "Data columns (total 9 columns):\n",
            " #   Column        Non-Null Count  Dtype  \n",
            "---  ------        --------------  -----  \n",
            " 0   mpg           398 non-null    float64\n",
            " 1   cylinders     398 non-null    int64  \n",
            " 2   displacement  398 non-null    float64\n",
            " 3   horsepower    398 non-null    object \n",
            " 4   weight        398 non-null    int64  \n",
            " 5   acceleration  398 non-null    float64\n",
            " 6   model year    398 non-null    int64  \n",
            " 7   origin        398 non-null    int64  \n",
            " 8   car name      398 non-null    object \n",
            "dtypes: float64(3), int64(4), object(2)\n",
            "memory usage: 28.1+ KB\n"
          ],
          "name": "stdout"
        }
      ]
    },
    {
      "cell_type": "markdown",
      "metadata": {
        "id": "v4uJ80LhsbWn"
      },
      "source": [
        "### Since horsepower is a numeric data, it should not be of type object. So we need to rectify it. "
      ]
    },
    {
      "cell_type": "code",
      "metadata": {
        "id": "26GVMkTosJB1"
      },
      "source": [
        "df['horsepower'] = pd.to_numeric(df['horsepower'],errors='coerce')"
      ],
      "execution_count": 37,
      "outputs": []
    },
    {
      "cell_type": "code",
      "metadata": {
        "id": "lXDpU7bNtLIs",
        "outputId": "f2f2d60c-153d-4910-f333-f4eaa3d8b3a2",
        "colab": {
          "base_uri": "https://localhost:8080/",
          "height": 298
        }
      },
      "source": [
        "# recheck the data type of horsepower\n",
        "df.info()"
      ],
      "execution_count": 38,
      "outputs": [
        {
          "output_type": "stream",
          "text": [
            "<class 'pandas.core.frame.DataFrame'>\n",
            "RangeIndex: 398 entries, 0 to 397\n",
            "Data columns (total 9 columns):\n",
            " #   Column        Non-Null Count  Dtype  \n",
            "---  ------        --------------  -----  \n",
            " 0   mpg           398 non-null    float64\n",
            " 1   cylinders     398 non-null    int64  \n",
            " 2   displacement  398 non-null    float64\n",
            " 3   horsepower    392 non-null    float64\n",
            " 4   weight        398 non-null    int64  \n",
            " 5   acceleration  398 non-null    float64\n",
            " 6   model year    398 non-null    int64  \n",
            " 7   origin        398 non-null    int64  \n",
            " 8   car name      398 non-null    object \n",
            "dtypes: float64(4), int64(4), object(1)\n",
            "memory usage: 28.1+ KB\n"
          ],
          "name": "stdout"
        }
      ]
    },
    {
      "cell_type": "markdown",
      "metadata": {
        "id": "0RcKnxectv5v"
      },
      "source": [
        "### So, horsepower has been converted to float"
      ]
    },
    {
      "cell_type": "markdown",
      "metadata": {
        "id": "aEFCEiZUt5YO"
      },
      "source": [
        "# 4. Removing outliers"
      ]
    },
    {
      "cell_type": "markdown",
      "metadata": {
        "id": "ZXe5PN3VugIy"
      },
      "source": [
        "### Converting weight from kgs to tons"
      ]
    },
    {
      "cell_type": "code",
      "metadata": {
        "id": "CYhbTxIZtV74",
        "outputId": "9d43d216-921c-4de0-f944-c11e3661d056",
        "colab": {
          "base_uri": "https://localhost:8080/",
          "height": 195
        }
      },
      "source": [
        "df['weight'] = df['weight']/1000\n",
        "df.head()"
      ],
      "execution_count": 39,
      "outputs": [
        {
          "output_type": "execute_result",
          "data": {
            "text/html": [
              "<div>\n",
              "<style scoped>\n",
              "    .dataframe tbody tr th:only-of-type {\n",
              "        vertical-align: middle;\n",
              "    }\n",
              "\n",
              "    .dataframe tbody tr th {\n",
              "        vertical-align: top;\n",
              "    }\n",
              "\n",
              "    .dataframe thead th {\n",
              "        text-align: right;\n",
              "    }\n",
              "</style>\n",
              "<table border=\"1\" class=\"dataframe\">\n",
              "  <thead>\n",
              "    <tr style=\"text-align: right;\">\n",
              "      <th></th>\n",
              "      <th>mpg</th>\n",
              "      <th>cylinders</th>\n",
              "      <th>displacement</th>\n",
              "      <th>horsepower</th>\n",
              "      <th>weight</th>\n",
              "      <th>acceleration</th>\n",
              "      <th>model year</th>\n",
              "      <th>origin</th>\n",
              "      <th>car name</th>\n",
              "    </tr>\n",
              "  </thead>\n",
              "  <tbody>\n",
              "    <tr>\n",
              "      <th>0</th>\n",
              "      <td>18.0</td>\n",
              "      <td>8</td>\n",
              "      <td>307.0</td>\n",
              "      <td>130.0</td>\n",
              "      <td>3.504</td>\n",
              "      <td>12.0</td>\n",
              "      <td>70</td>\n",
              "      <td>1</td>\n",
              "      <td>chevrolet chevelle malibu</td>\n",
              "    </tr>\n",
              "    <tr>\n",
              "      <th>1</th>\n",
              "      <td>15.0</td>\n",
              "      <td>8</td>\n",
              "      <td>350.0</td>\n",
              "      <td>165.0</td>\n",
              "      <td>3.693</td>\n",
              "      <td>11.5</td>\n",
              "      <td>70</td>\n",
              "      <td>1</td>\n",
              "      <td>buick skylark 320</td>\n",
              "    </tr>\n",
              "    <tr>\n",
              "      <th>2</th>\n",
              "      <td>18.0</td>\n",
              "      <td>8</td>\n",
              "      <td>318.0</td>\n",
              "      <td>150.0</td>\n",
              "      <td>3.436</td>\n",
              "      <td>11.0</td>\n",
              "      <td>70</td>\n",
              "      <td>1</td>\n",
              "      <td>plymouth satellite</td>\n",
              "    </tr>\n",
              "    <tr>\n",
              "      <th>3</th>\n",
              "      <td>16.0</td>\n",
              "      <td>8</td>\n",
              "      <td>304.0</td>\n",
              "      <td>150.0</td>\n",
              "      <td>3.433</td>\n",
              "      <td>12.0</td>\n",
              "      <td>70</td>\n",
              "      <td>1</td>\n",
              "      <td>amc rebel sst</td>\n",
              "    </tr>\n",
              "    <tr>\n",
              "      <th>4</th>\n",
              "      <td>17.0</td>\n",
              "      <td>8</td>\n",
              "      <td>302.0</td>\n",
              "      <td>140.0</td>\n",
              "      <td>3.449</td>\n",
              "      <td>10.5</td>\n",
              "      <td>70</td>\n",
              "      <td>1</td>\n",
              "      <td>ford torino</td>\n",
              "    </tr>\n",
              "  </tbody>\n",
              "</table>\n",
              "</div>"
            ],
            "text/plain": [
              "    mpg  cylinders  displacement  ...  model year  origin                   car name\n",
              "0  18.0          8         307.0  ...          70       1  chevrolet chevelle malibu\n",
              "1  15.0          8         350.0  ...          70       1          buick skylark 320\n",
              "2  18.0          8         318.0  ...          70       1         plymouth satellite\n",
              "3  16.0          8         304.0  ...          70       1              amc rebel sst\n",
              "4  17.0          8         302.0  ...          70       1                ford torino\n",
              "\n",
              "[5 rows x 9 columns]"
            ]
          },
          "metadata": {
            "tags": []
          },
          "execution_count": 39
        }
      ]
    },
    {
      "cell_type": "markdown",
      "metadata": {
        "id": "JIz4DLTlupNM"
      },
      "source": [
        "### Now, data items are on similar scale with each other"
      ]
    },
    {
      "cell_type": "markdown",
      "metadata": {
        "id": "B8Thjjjguz_e"
      },
      "source": [
        "# 5. Missing data checks"
      ]
    },
    {
      "cell_type": "code",
      "metadata": {
        "id": "v-ILdkK6uFop",
        "outputId": "57119cd2-7e1f-4ba2-b0cb-dbf236a5eaa7",
        "colab": {
          "base_uri": "https://localhost:8080/",
          "height": 34
        }
      },
      "source": [
        "print(\"Are there any null values in the dataset ?\",df.isnull().values.any())"
      ],
      "execution_count": 40,
      "outputs": [
        {
          "output_type": "stream",
          "text": [
            "Are there any null values in the dataset ? True\n"
          ],
          "name": "stdout"
        }
      ]
    },
    {
      "cell_type": "code",
      "metadata": {
        "id": "RsgB4NSqvCEO",
        "outputId": "e40b8714-f39a-4942-ed61-7a3c0d551d30",
        "colab": {
          "base_uri": "https://localhost:8080/",
          "height": 228
        }
      },
      "source": [
        "print(\"Display null value counts, columnwise\\n\")\n",
        "df.isnull().sum()"
      ],
      "execution_count": 41,
      "outputs": [
        {
          "output_type": "stream",
          "text": [
            "Display null value counts, columnwise\n",
            "\n"
          ],
          "name": "stdout"
        },
        {
          "output_type": "execute_result",
          "data": {
            "text/plain": [
              "mpg             0\n",
              "cylinders       0\n",
              "displacement    0\n",
              "horsepower      6\n",
              "weight          0\n",
              "acceleration    0\n",
              "model year      0\n",
              "origin          0\n",
              "car name        0\n",
              "dtype: int64"
            ]
          },
          "metadata": {
            "tags": []
          },
          "execution_count": 41
        }
      ]
    },
    {
      "cell_type": "markdown",
      "metadata": {
        "id": "C-fR5GGNvPgK"
      },
      "source": [
        "### Column 'horsepower' has got 6 missing data which can be replaced by the column mean"
      ]
    },
    {
      "cell_type": "code",
      "metadata": {
        "id": "W0vuFmEnvMaE"
      },
      "source": [
        "m = df['horsepower'].mean()\n",
        "df = df.replace(np.nan,m)"
      ],
      "execution_count": 43,
      "outputs": []
    },
    {
      "cell_type": "code",
      "metadata": {
        "id": "3WCpRi3owj9b",
        "outputId": "ba4fe493-b62e-4aa7-8a0f-84da01141da4",
        "colab": {
          "base_uri": "https://localhost:8080/",
          "height": 34
        }
      },
      "source": [
        "print(\"Are there any null values in dataset ?\",df.isnull().values.any())"
      ],
      "execution_count": 45,
      "outputs": [
        {
          "output_type": "stream",
          "text": [
            "Are there any null values in dataset ? False\n"
          ],
          "name": "stdout"
        }
      ]
    },
    {
      "cell_type": "markdown",
      "metadata": {
        "id": "K2AFUMFIxpRN"
      },
      "source": [
        "### So, we have prepared our data for analysis after removal of outliers, missing values and rectifying datatypes."
      ]
    },
    {
      "cell_type": "markdown",
      "metadata": {
        "id": "8IG2Jun1yDU7"
      },
      "source": [
        "# 6. Statistical insights into data"
      ]
    },
    {
      "cell_type": "code",
      "metadata": {
        "id": "2LxMQYNrxWlN",
        "outputId": "d610727e-6a81-401e-a0c6-6c96b5e4ce85",
        "colab": {
          "base_uri": "https://localhost:8080/",
          "height": 314
        }
      },
      "source": [
        "df.describe(include=\"all\").T"
      ],
      "execution_count": 46,
      "outputs": [
        {
          "output_type": "execute_result",
          "data": {
            "text/html": [
              "<div>\n",
              "<style scoped>\n",
              "    .dataframe tbody tr th:only-of-type {\n",
              "        vertical-align: middle;\n",
              "    }\n",
              "\n",
              "    .dataframe tbody tr th {\n",
              "        vertical-align: top;\n",
              "    }\n",
              "\n",
              "    .dataframe thead th {\n",
              "        text-align: right;\n",
              "    }\n",
              "</style>\n",
              "<table border=\"1\" class=\"dataframe\">\n",
              "  <thead>\n",
              "    <tr style=\"text-align: right;\">\n",
              "      <th></th>\n",
              "      <th>count</th>\n",
              "      <th>unique</th>\n",
              "      <th>top</th>\n",
              "      <th>freq</th>\n",
              "      <th>mean</th>\n",
              "      <th>std</th>\n",
              "      <th>min</th>\n",
              "      <th>25%</th>\n",
              "      <th>50%</th>\n",
              "      <th>75%</th>\n",
              "      <th>max</th>\n",
              "    </tr>\n",
              "  </thead>\n",
              "  <tbody>\n",
              "    <tr>\n",
              "      <th>mpg</th>\n",
              "      <td>398</td>\n",
              "      <td>NaN</td>\n",
              "      <td>NaN</td>\n",
              "      <td>NaN</td>\n",
              "      <td>23.5146</td>\n",
              "      <td>7.81598</td>\n",
              "      <td>9</td>\n",
              "      <td>17.5</td>\n",
              "      <td>23</td>\n",
              "      <td>29</td>\n",
              "      <td>46.6</td>\n",
              "    </tr>\n",
              "    <tr>\n",
              "      <th>cylinders</th>\n",
              "      <td>398</td>\n",
              "      <td>NaN</td>\n",
              "      <td>NaN</td>\n",
              "      <td>NaN</td>\n",
              "      <td>5.45477</td>\n",
              "      <td>1.701</td>\n",
              "      <td>3</td>\n",
              "      <td>4</td>\n",
              "      <td>4</td>\n",
              "      <td>8</td>\n",
              "      <td>8</td>\n",
              "    </tr>\n",
              "    <tr>\n",
              "      <th>displacement</th>\n",
              "      <td>398</td>\n",
              "      <td>NaN</td>\n",
              "      <td>NaN</td>\n",
              "      <td>NaN</td>\n",
              "      <td>193.426</td>\n",
              "      <td>104.27</td>\n",
              "      <td>68</td>\n",
              "      <td>104.25</td>\n",
              "      <td>148.5</td>\n",
              "      <td>262</td>\n",
              "      <td>455</td>\n",
              "    </tr>\n",
              "    <tr>\n",
              "      <th>horsepower</th>\n",
              "      <td>398</td>\n",
              "      <td>NaN</td>\n",
              "      <td>NaN</td>\n",
              "      <td>NaN</td>\n",
              "      <td>104.469</td>\n",
              "      <td>38.1992</td>\n",
              "      <td>46</td>\n",
              "      <td>76</td>\n",
              "      <td>95</td>\n",
              "      <td>125</td>\n",
              "      <td>230</td>\n",
              "    </tr>\n",
              "    <tr>\n",
              "      <th>weight</th>\n",
              "      <td>398</td>\n",
              "      <td>NaN</td>\n",
              "      <td>NaN</td>\n",
              "      <td>NaN</td>\n",
              "      <td>2.97042</td>\n",
              "      <td>0.846842</td>\n",
              "      <td>1.613</td>\n",
              "      <td>2.22375</td>\n",
              "      <td>2.8035</td>\n",
              "      <td>3.608</td>\n",
              "      <td>5.14</td>\n",
              "    </tr>\n",
              "    <tr>\n",
              "      <th>acceleration</th>\n",
              "      <td>398</td>\n",
              "      <td>NaN</td>\n",
              "      <td>NaN</td>\n",
              "      <td>NaN</td>\n",
              "      <td>15.5681</td>\n",
              "      <td>2.75769</td>\n",
              "      <td>8</td>\n",
              "      <td>13.825</td>\n",
              "      <td>15.5</td>\n",
              "      <td>17.175</td>\n",
              "      <td>24.8</td>\n",
              "    </tr>\n",
              "    <tr>\n",
              "      <th>model year</th>\n",
              "      <td>398</td>\n",
              "      <td>NaN</td>\n",
              "      <td>NaN</td>\n",
              "      <td>NaN</td>\n",
              "      <td>76.0101</td>\n",
              "      <td>3.69763</td>\n",
              "      <td>70</td>\n",
              "      <td>73</td>\n",
              "      <td>76</td>\n",
              "      <td>79</td>\n",
              "      <td>82</td>\n",
              "    </tr>\n",
              "    <tr>\n",
              "      <th>origin</th>\n",
              "      <td>398</td>\n",
              "      <td>NaN</td>\n",
              "      <td>NaN</td>\n",
              "      <td>NaN</td>\n",
              "      <td>1.57286</td>\n",
              "      <td>0.802055</td>\n",
              "      <td>1</td>\n",
              "      <td>1</td>\n",
              "      <td>1</td>\n",
              "      <td>2</td>\n",
              "      <td>3</td>\n",
              "    </tr>\n",
              "    <tr>\n",
              "      <th>car name</th>\n",
              "      <td>398</td>\n",
              "      <td>305</td>\n",
              "      <td>ford pinto</td>\n",
              "      <td>6</td>\n",
              "      <td>NaN</td>\n",
              "      <td>NaN</td>\n",
              "      <td>NaN</td>\n",
              "      <td>NaN</td>\n",
              "      <td>NaN</td>\n",
              "      <td>NaN</td>\n",
              "      <td>NaN</td>\n",
              "    </tr>\n",
              "  </tbody>\n",
              "</table>\n",
              "</div>"
            ],
            "text/plain": [
              "             count unique         top freq  ...      25%     50%     75%   max\n",
              "mpg            398    NaN         NaN  NaN  ...     17.5      23      29  46.6\n",
              "cylinders      398    NaN         NaN  NaN  ...        4       4       8     8\n",
              "displacement   398    NaN         NaN  NaN  ...   104.25   148.5     262   455\n",
              "horsepower     398    NaN         NaN  NaN  ...       76      95     125   230\n",
              "weight         398    NaN         NaN  NaN  ...  2.22375  2.8035   3.608  5.14\n",
              "acceleration   398    NaN         NaN  NaN  ...   13.825    15.5  17.175  24.8\n",
              "model year     398    NaN         NaN  NaN  ...       73      76      79    82\n",
              "origin         398    NaN         NaN  NaN  ...        1       1       2     3\n",
              "car name       398    305  ford pinto    6  ...      NaN     NaN     NaN   NaN\n",
              "\n",
              "[9 rows x 11 columns]"
            ]
          },
          "metadata": {
            "tags": []
          },
          "execution_count": 46
        }
      ]
    },
    {
      "cell_type": "markdown",
      "metadata": {
        "id": "D_S33M-8yW6_"
      },
      "source": [
        "### The mean milage of a car is 23.51 and mean power is 104.469 bHp"
      ]
    },
    {
      "cell_type": "markdown",
      "metadata": {
        "id": "qnMEc7W6ym7x"
      },
      "source": [
        "# 7. Plotting the Spearman's correlation"
      ]
    },
    {
      "cell_type": "code",
      "metadata": {
        "id": "HCt_JVLKyLdU",
        "outputId": "096cd308-c63e-4b85-fd45-9a3ba6eb5526",
        "colab": {
          "base_uri": "https://localhost:8080/",
          "height": 554
        }
      },
      "source": [
        "plt.figure(figsize=(18,8))\n",
        "sns.heatmap(df.corr(),annot=True,cmap='BuPu')\n",
        "plt.title('Correlation of features of a car\\n',size=24,fontweight='bold',color='green')"
      ],
      "execution_count": 48,
      "outputs": [
        {
          "output_type": "execute_result",
          "data": {
            "text/plain": [
              "Text(0.5, 1.0, 'Correlation of features of a car\\n')"
            ]
          },
          "metadata": {
            "tags": []
          },
          "execution_count": 48
        },
        {
          "output_type": "display_data",
          "data": {
            "image/png": "[encoded data removed]",
            "text/plain": [
              "<Figure size 1296x576 with 2 Axes>"
            ]
          },
          "metadata": {
            "tags": []
          }
        }
      ]
    },
    {
      "cell_type": "markdown",
      "metadata": {
        "id": "m0z3c_LMzUro"
      },
      "source": [
        "### From the Spearman's matrix, we can evaluate and conclude that 'cylinder','displacement','horsepower' and 'weight' columns have good correlation."
      ]
    },
    {
      "cell_type": "markdown",
      "metadata": {
        "id": "PBaHdTeNz9Lb"
      },
      "source": [
        "# 8. Building a Machine Learning model"
      ]
    },
    {
      "cell_type": "code",
      "metadata": {
        "id": "bgqpCMDZy7Ap"
      },
      "source": [
        "from sklearn.model_selection import train_test_split\n",
        "from sklearn.linear_model import LinearRegression\n",
        "x = df.iloc[:,1].values.reshape(-1,1)\n",
        "y = df.iloc[:,3].values\n"
      ],
      "execution_count": 49,
      "outputs": []
    },
    {
      "cell_type": "code",
      "metadata": {
        "id": "nEU7zLm90wRZ"
      },
      "source": [
        "x_train,x_test,y_train,y_test = train_test_split(x,y,test_size=0.20,random_state=0)"
      ],
      "execution_count": 50,
      "outputs": []
    },
    {
      "cell_type": "code",
      "metadata": {
        "id": "7vIH4wtU1cn0",
        "outputId": "14714643-fb96-4cf3-b024-e37ba1837b43",
        "colab": {
          "base_uri": "https://localhost:8080/",
          "height": 34
        }
      },
      "source": [
        "reg = LinearRegression()\n",
        "reg.fit(x_train,y_train)"
      ],
      "execution_count": 51,
      "outputs": [
        {
          "output_type": "execute_result",
          "data": {
            "text/plain": [
              "LinearRegression(copy_X=True, fit_intercept=True, n_jobs=None, normalize=False)"
            ]
          },
          "metadata": {
            "tags": []
          },
          "execution_count": 51
        }
      ]
    },
    {
      "cell_type": "code",
      "metadata": {
        "id": "Q5rRC9oz1jhS"
      },
      "source": [
        "y_pred = reg.predict(x_test)"
      ],
      "execution_count": 52,
      "outputs": []
    },
    {
      "cell_type": "code",
      "metadata": {
        "id": "f2FJDFyc1ptK",
        "outputId": "7dee76a7-fac0-49f2-9923-860ff3d27913",
        "colab": {
          "base_uri": "https://localhost:8080/",
          "height": 298
        }
      },
      "source": [
        "print(y_pred)"
      ],
      "execution_count": 53,
      "outputs": [
        {
          "output_type": "stream",
          "text": [
            "[150.35446923  77.11311478 150.35446923  77.11311478 113.733792\n",
            "  77.11311478  77.11311478  77.11311478 150.35446923 113.733792\n",
            "  77.11311478  77.11311478 113.733792    77.11311478 150.35446923\n",
            "  77.11311478  77.11311478  77.11311478 113.733792    77.11311478\n",
            " 150.35446923  77.11311478  77.11311478  77.11311478  77.11311478\n",
            " 113.733792    77.11311478  77.11311478  77.11311478 113.733792\n",
            " 113.733792    77.11311478 113.733792    77.11311478 113.733792\n",
            "  77.11311478 113.733792   150.35446923  77.11311478 150.35446923\n",
            " 150.35446923 150.35446923  77.11311478  58.80277617  77.11311478\n",
            "  77.11311478 113.733792   150.35446923 113.733792    77.11311478\n",
            "  77.11311478  77.11311478 150.35446923  77.11311478 150.35446923\n",
            " 150.35446923 113.733792   113.733792    77.11311478 150.35446923\n",
            " 113.733792    77.11311478 113.733792   113.733792   150.35446923\n",
            " 150.35446923 150.35446923 113.733792    77.11311478 150.35446923\n",
            "  77.11311478 150.35446923  77.11311478 113.733792    77.11311478\n",
            "  77.11311478  77.11311478  77.11311478  77.11311478 150.35446923]\n"
          ],
          "name": "stdout"
        }
      ]
    },
    {
      "cell_type": "code",
      "metadata": {
        "id": "IXogf6ic1r_r",
        "outputId": "d7537acf-d68f-404d-fe11-71db2a7c6754",
        "colab": {
          "base_uri": "https://localhost:8080/",
          "height": 475
        }
      },
      "source": [
        "plt.figure(figsize=(18,7))\n",
        "plt.scatter(x_train,y_train,color='red')\n",
        "plt.plot(x_train,reg.predict(x_train),color='blue')\n",
        "plt.xlabel('Number of cylinders',size=18)\n",
        "plt.ylabel('Amount of horsepower',size=18)\n",
        "plt.title('Number of cylinders vs Horsepower',size=24,fontweight='bold',color='green')\n",
        "plt.show()"
      ],
      "execution_count": 54,
      "outputs": [
        {
          "output_type": "display_data",
          "data": {
            "image/png": "[encoded data removed]",
            "text/plain": [
              "<Figure size 1296x504 with 1 Axes>"
            ]
          },
          "metadata": {
            "tags": []
          }
        }
      ]
    },
    {
      "cell_type": "code",
      "metadata": {
        "id": "NTSfj-fN2d3C",
        "outputId": "f249cbdf-13f7-422f-bd19-ca1b19d9ab58",
        "colab": {
          "base_uri": "https://localhost:8080/",
          "height": 475
        }
      },
      "source": [
        "plt.figure(figsize=(18,7))\n",
        "plt.scatter(x_test,y_test,color='black')\n",
        "plt.plot(x_train,reg.predict(x_train),color='green')\n",
        "plt.xlabel('Number of cylinders',size=18)\n",
        "plt.ylabel('Amount of horsepower',size=18)\n",
        "plt.title('Number of cylinders vs Horsepower (Test set)',size=24,fontweight='bold',color='orange')\n",
        "plt.show()"
      ],
      "execution_count": 55,
      "outputs": [
        {
          "output_type": "display_data",
          "data": {
            "image/png": "[encoded data removed]",
            "text/plain": [
              "<Figure size 1296x504 with 1 Axes>"
            ]
          },
          "metadata": {
            "tags": []
          }
        }
      ]
    },
    {
      "cell_type": "code",
      "metadata": {
        "id": "xUhJajdD2w_y"
      },
      "source": [
        "x = df.iloc[:,2].values.reshape(-1,1)\n",
        "y = df.iloc[:,3].values\n"
      ],
      "execution_count": 56,
      "outputs": []
    },
    {
      "cell_type": "code",
      "metadata": {
        "id": "5VJf0oWe5Fc9"
      },
      "source": [
        ""
      ],
      "execution_count": null,
      "outputs": []
    }
  ]
}