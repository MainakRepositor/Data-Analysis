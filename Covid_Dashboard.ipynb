{
  "nbformat": 4,
  "nbformat_minor": 0,
  "metadata": {
    "colab": {
      "name": "Covid Dashboard.ipynb",
      "provenance": [],
      "collapsed_sections": [],
      "authorship_tag": "ABX9TyPbfC3YdRJVh/ewQgMloV7V",
      "include_colab_link": true
    },
    "kernelspec": {
      "name": "python3",
      "display_name": "Python 3"
    }
  },
  "cells": [
    {
      "cell_type": "markdown",
      "metadata": {
        "id": "view-in-github",
        "colab_type": "text"
      },
      "source": [
        "<a href=\"https://colab.research.google.com/github/MainakRepositor/Data-Analysis/blob/master/Covid_Dashboard.ipynb\" target=\"_parent\"><img src=\"https://colab.research.google.com/assets/colab-badge.svg\" alt=\"Open In Colab\"/></a>"
      ]
    },
    {
      "cell_type": "code",
      "metadata": {
        "id": "iRMfKEbb5RBn",
        "outputId": "e414829f-5a61-4628-e92f-1db797d4eb7a",
        "colab": {
          "base_uri": "https://localhost:8080/"
        }
      },
      "source": [
        "!pip install plotly"
      ],
      "execution_count": null,
      "outputs": [
        {
          "output_type": "stream",
          "text": [
            "Requirement already satisfied: plotly in /usr/local/lib/python3.6/dist-packages (4.4.1)\n",
            "Requirement already satisfied: retrying>=1.3.3 in /usr/local/lib/python3.6/dist-packages (from plotly) (1.3.3)\n",
            "Requirement already satisfied: six in /usr/local/lib/python3.6/dist-packages (from plotly) (1.15.0)\n"
          ],
          "name": "stdout"
        }
      ]
    },
    {
      "cell_type": "code",
      "metadata": {
        "id": "j6XmzhX05kvU",
        "outputId": "1d2a2ba9-0163-4ec6-8b7f-afc4ae830db9",
        "colab": {
          "base_uri": "https://localhost:8080/"
        }
      },
      "source": [
        "!pip install dash"
      ],
      "execution_count": null,
      "outputs": [
        {
          "output_type": "stream",
          "text": [
            "Collecting dash\n",
            "\u001b[?25l  Downloading https://files.pythonhosted.org/packages/69/91/ae029886dda55b93b60ac04377bcb2ab9209dd73244e3b5e513124cc6778/dash-1.17.0.tar.gz (75kB)\n",
            "\r\u001b[K     |████▍                           | 10kB 12.7MB/s eta 0:00:01\r\u001b[K     |████████▊                       | 20kB 1.7MB/s eta 0:00:01\r\u001b[K     |█████████████                   | 30kB 2.2MB/s eta 0:00:01\r\u001b[K     |█████████████████▍              | 40kB 2.4MB/s eta 0:00:01\r\u001b[K     |█████████████████████▊          | 51kB 2.0MB/s eta 0:00:01\r\u001b[K     |██████████████████████████▏     | 61kB 2.2MB/s eta 0:00:01\r\u001b[K     |██████████████████████████████▌ | 71kB 2.4MB/s eta 0:00:01\r\u001b[K     |████████████████████████████████| 81kB 2.2MB/s \n",
            "\u001b[?25hRequirement already satisfied: Flask>=1.0.2 in /usr/local/lib/python3.6/dist-packages (from dash) (1.1.2)\n",
            "Collecting flask-compress\n",
            "  Downloading https://files.pythonhosted.org/packages/de/eb/6bb0f8cb872167752eab8b06b67724566342de873dcfd85faaf7761944d9/Flask-Compress-1.7.0.tar.gz\n",
            "Requirement already satisfied: plotly in /usr/local/lib/python3.6/dist-packages (from dash) (4.4.1)\n",
            "Collecting dash_renderer==1.8.3\n",
            "\u001b[?25l  Downloading https://files.pythonhosted.org/packages/72/fe/59a322edb128ad15205002c7b81e3f5e580f6791c4a100183289e05dbfcb/dash_renderer-1.8.3.tar.gz (1.0MB)\n",
            "\u001b[K     |████████████████████████████████| 1.0MB 8.0MB/s \n",
            "\u001b[?25hCollecting dash-core-components==1.13.0\n",
            "\u001b[?25l  Downloading https://files.pythonhosted.org/packages/52/48/3dd8c7bf93cff3a9dd9d360bc25c4ec0cb191acdce13375c3ff85f98e992/dash_core_components-1.13.0.tar.gz (3.5MB)\n",
            "\u001b[K     |████████████████████████████████| 3.5MB 19.4MB/s \n",
            "\u001b[?25hCollecting dash-html-components==1.1.1\n",
            "\u001b[?25l  Downloading https://files.pythonhosted.org/packages/02/ba/bb9427c62feb25bfbaf243894eeeb4e7c67a92b426ed0575a167100e436e/dash_html_components-1.1.1.tar.gz (188kB)\n",
            "\u001b[K     |████████████████████████████████| 194kB 37.8MB/s \n",
            "\u001b[?25hCollecting dash-table==4.11.0\n",
            "\u001b[?25l  Downloading https://files.pythonhosted.org/packages/bb/46/cc839f897cabea3f584cf59ce9d86a5ea3828e54eefe2537ba8b640a9707/dash_table-4.11.0.tar.gz (1.8MB)\n",
            "\u001b[K     |████████████████████████████████| 1.8MB 43.4MB/s \n",
            "\u001b[?25hRequirement already satisfied: future in /usr/local/lib/python3.6/dist-packages (from dash) (0.16.0)\n",
            "Requirement already satisfied: Werkzeug>=0.15 in /usr/local/lib/python3.6/dist-packages (from Flask>=1.0.2->dash) (1.0.1)\n",
            "Requirement already satisfied: click>=5.1 in /usr/local/lib/python3.6/dist-packages (from Flask>=1.0.2->dash) (7.1.2)\n",
            "Requirement already satisfied: itsdangerous>=0.24 in /usr/local/lib/python3.6/dist-packages (from Flask>=1.0.2->dash) (1.1.0)\n",
            "Requirement already satisfied: Jinja2>=2.10.1 in /usr/local/lib/python3.6/dist-packages (from Flask>=1.0.2->dash) (2.11.2)\n",
            "Collecting brotli\n",
            "\u001b[?25l  Downloading https://files.pythonhosted.org/packages/b4/d3/7c98f05b7b9103e2f3a112ba42f269c798155b3e5404fb80bb8f823aaebe/Brotli-1.0.9-cp36-cp36m-manylinux1_x86_64.whl (357kB)\n",
            "\u001b[K     |████████████████████████████████| 358kB 39.7MB/s \n",
            "\u001b[?25hRequirement already satisfied: six in /usr/local/lib/python3.6/dist-packages (from plotly->dash) (1.15.0)\n",
            "Requirement already satisfied: retrying>=1.3.3 in /usr/local/lib/python3.6/dist-packages (from plotly->dash) (1.3.3)\n",
            "Requirement already satisfied: MarkupSafe>=0.23 in /usr/local/lib/python3.6/dist-packages (from Jinja2>=2.10.1->Flask>=1.0.2->dash) (1.1.1)\n",
            "Building wheels for collected packages: dash, flask-compress, dash-renderer, dash-core-components, dash-html-components, dash-table\n",
            "  Building wheel for dash (setup.py) ... \u001b[?25l\u001b[?25hdone\n",
            "  Created wheel for dash: filename=dash-1.17.0-cp36-none-any.whl size=83728 sha256=315569cee61d251916af8c693032f3448749d8aa927b104bc038c9ef8eac6198\n",
            "  Stored in directory: /root/.cache/pip/wheels/e0/32/13/8a569b638a79cf80a4a721f56040d91198adec28e3bc8123fc\n",
            "  Building wheel for flask-compress (setup.py) ... \u001b[?25l\u001b[?25hdone\n",
            "  Created wheel for flask-compress: filename=Flask_Compress-1.7.0-cp36-none-any.whl size=6833 sha256=7f5958a5d560807d66cee6fac60d2fcba9e866dd36429c5d273549401a144bcf\n",
            "  Stored in directory: /root/.cache/pip/wheels/1d/b7/18/2b88ed33c5ef53868d1bfb0d3f2f351ae0143414734415bd06\n",
            "  Building wheel for dash-renderer (setup.py) ... \u001b[?25l\u001b[?25hdone\n",
            "  Created wheel for dash-renderer: filename=dash_renderer-1.8.3-cp36-none-any.whl size=1013944 sha256=18b0fc70184be1cf5b8adbd89bcfb9b5813a3cbd51eb6a44e0123a1257a93d3f\n",
            "  Stored in directory: /root/.cache/pip/wheels/cf/2b/5f/0928a6d1b7ebf280f21a2e925f36d662e6ba83e00b82c6b6bf\n",
            "  Building wheel for dash-core-components (setup.py) ... \u001b[?25l\u001b[?25hdone\n",
            "  Created wheel for dash-core-components: filename=dash_core_components-1.13.0-cp36-none-any.whl size=3513142 sha256=fc5a616a08b89b255a7a03b09e081e1d7ab59ff34beeffd8e885674475782ac8\n",
            "  Stored in directory: /root/.cache/pip/wheels/44/d9/90/177214625a5b5f6440b24ea807550e07fbf439a495eee4dd36\n",
            "  Building wheel for dash-html-components (setup.py) ... \u001b[?25l\u001b[?25hdone\n",
            "  Created wheel for dash-html-components: filename=dash_html_components-1.1.1-cp36-none-any.whl size=427894 sha256=d431797ba15dd572b0d49f1cbea68b7410ed30c002a17d8d30c32b7557443f75\n",
            "  Stored in directory: /root/.cache/pip/wheels/8d/01/46/78e4de185a8a4a2da8ba31da16c52170f036d4cebeeb6e07a2\n",
            "  Building wheel for dash-table (setup.py) ... \u001b[?25l\u001b[?25hdone\n",
            "  Created wheel for dash-table: filename=dash_table-4.11.0-cp36-none-any.whl size=1839767 sha256=4acf2fca08d9429fdb3c18edb8ad959afacfeebf4b1351e346b0d6edf80e32dd\n",
            "  Stored in directory: /root/.cache/pip/wheels/ca/37/90/bd45dcc5d6acbe6ac53f753a8f1732ecf5270017372e389cd8\n",
            "Successfully built dash flask-compress dash-renderer dash-core-components dash-html-components dash-table\n",
            "Installing collected packages: brotli, flask-compress, dash-renderer, dash-core-components, dash-html-components, dash-table, dash\n",
            "Successfully installed brotli-1.0.9 dash-1.17.0 dash-core-components-1.13.0 dash-html-components-1.1.1 dash-renderer-1.8.3 dash-table-4.11.0 flask-compress-1.7.0\n"
          ],
          "name": "stdout"
        }
      ]
    },
    {
      "cell_type": "code",
      "metadata": {
        "id": "s6Ap3a415ody",
        "outputId": "9880c59d-80b9-44f1-8ca0-78eda6475952",
        "colab": {
          "base_uri": "https://localhost:8080/"
        }
      },
      "source": [
        "!pip install dash_bootstrap_components"
      ],
      "execution_count": null,
      "outputs": [
        {
          "output_type": "stream",
          "text": [
            "Collecting dash_bootstrap_components\n",
            "\u001b[?25l  Downloading https://files.pythonhosted.org/packages/97/23/fc5bcf440d26725b809daf61e5e919a9e63f0aa993d0a5c0d54920705b75/dash_bootstrap_components-0.10.7-py2.py3-none-any.whl (185kB)\n",
            "\r\u001b[K     |█▊                              | 10kB 13.1MB/s eta 0:00:01\r\u001b[K     |███▌                            | 20kB 1.7MB/s eta 0:00:01\r\u001b[K     |█████▎                          | 30kB 2.3MB/s eta 0:00:01\r\u001b[K     |███████                         | 40kB 2.5MB/s eta 0:00:01\r\u001b[K     |████████▉                       | 51kB 2.0MB/s eta 0:00:01\r\u001b[K     |██████████▋                     | 61kB 2.3MB/s eta 0:00:01\r\u001b[K     |████████████▍                   | 71kB 2.5MB/s eta 0:00:01\r\u001b[K     |██████████████▏                 | 81kB 2.7MB/s eta 0:00:01\r\u001b[K     |████████████████                | 92kB 2.9MB/s eta 0:00:01\r\u001b[K     |█████████████████▊              | 102kB 2.7MB/s eta 0:00:01\r\u001b[K     |███████████████████▌            | 112kB 2.7MB/s eta 0:00:01\r\u001b[K     |█████████████████████▎          | 122kB 2.7MB/s eta 0:00:01\r\u001b[K     |███████████████████████         | 133kB 2.7MB/s eta 0:00:01\r\u001b[K     |████████████████████████▉       | 143kB 2.7MB/s eta 0:00:01\r\u001b[K     |██████████████████████████▋     | 153kB 2.7MB/s eta 0:00:01\r\u001b[K     |████████████████████████████▎   | 163kB 2.7MB/s eta 0:00:01\r\u001b[K     |██████████████████████████████  | 174kB 2.7MB/s eta 0:00:01\r\u001b[K     |███████████████████████████████▉| 184kB 2.7MB/s eta 0:00:01\r\u001b[K     |████████████████████████████████| 194kB 2.7MB/s \n",
            "\u001b[?25hRequirement already satisfied: dash>=1.9.0 in /usr/local/lib/python3.6/dist-packages (from dash_bootstrap_components) (1.17.0)\n",
            "Requirement already satisfied: flask-compress in /usr/local/lib/python3.6/dist-packages (from dash>=1.9.0->dash_bootstrap_components) (1.7.0)\n",
            "Requirement already satisfied: dash-core-components==1.13.0 in /usr/local/lib/python3.6/dist-packages (from dash>=1.9.0->dash_bootstrap_components) (1.13.0)\n",
            "Requirement already satisfied: Flask>=1.0.2 in /usr/local/lib/python3.6/dist-packages (from dash>=1.9.0->dash_bootstrap_components) (1.1.2)\n",
            "Requirement already satisfied: plotly in /usr/local/lib/python3.6/dist-packages (from dash>=1.9.0->dash_bootstrap_components) (4.4.1)\n",
            "Requirement already satisfied: dash-renderer==1.8.3 in /usr/local/lib/python3.6/dist-packages (from dash>=1.9.0->dash_bootstrap_components) (1.8.3)\n",
            "Requirement already satisfied: future in /usr/local/lib/python3.6/dist-packages (from dash>=1.9.0->dash_bootstrap_components) (0.16.0)\n",
            "Requirement already satisfied: dash-table==4.11.0 in /usr/local/lib/python3.6/dist-packages (from dash>=1.9.0->dash_bootstrap_components) (4.11.0)\n",
            "Requirement already satisfied: dash-html-components==1.1.1 in /usr/local/lib/python3.6/dist-packages (from dash>=1.9.0->dash_bootstrap_components) (1.1.1)\n",
            "Requirement already satisfied: brotli in /usr/local/lib/python3.6/dist-packages (from flask-compress->dash>=1.9.0->dash_bootstrap_components) (1.0.9)\n",
            "Requirement already satisfied: Werkzeug>=0.15 in /usr/local/lib/python3.6/dist-packages (from Flask>=1.0.2->dash>=1.9.0->dash_bootstrap_components) (1.0.1)\n",
            "Requirement already satisfied: click>=5.1 in /usr/local/lib/python3.6/dist-packages (from Flask>=1.0.2->dash>=1.9.0->dash_bootstrap_components) (7.1.2)\n",
            "Requirement already satisfied: itsdangerous>=0.24 in /usr/local/lib/python3.6/dist-packages (from Flask>=1.0.2->dash>=1.9.0->dash_bootstrap_components) (1.1.0)\n",
            "Requirement already satisfied: Jinja2>=2.10.1 in /usr/local/lib/python3.6/dist-packages (from Flask>=1.0.2->dash>=1.9.0->dash_bootstrap_components) (2.11.2)\n",
            "Requirement already satisfied: six in /usr/local/lib/python3.6/dist-packages (from plotly->dash>=1.9.0->dash_bootstrap_components) (1.15.0)\n",
            "Requirement already satisfied: retrying>=1.3.3 in /usr/local/lib/python3.6/dist-packages (from plotly->dash>=1.9.0->dash_bootstrap_components) (1.3.3)\n",
            "Requirement already satisfied: MarkupSafe>=0.23 in /usr/local/lib/python3.6/dist-packages (from Jinja2>=2.10.1->Flask>=1.0.2->dash>=1.9.0->dash_bootstrap_components) (1.1.1)\n",
            "Installing collected packages: dash-bootstrap-components\n",
            "Successfully installed dash-bootstrap-components-0.10.7\n"
          ],
          "name": "stdout"
        }
      ]
    },
    {
      "cell_type": "markdown",
      "metadata": {
        "id": "NVpmP2Nx8rKy"
      },
      "source": [
        "## Imported necessary packages and dependencies"
      ]
    },
    {
      "cell_type": "code",
      "metadata": {
        "id": "4lBDkj5E5uw6"
      },
      "source": [
        "import pandas as pd\n",
        "pd.set_option('max_rows',20)\n",
        "import plotly.express as px\n",
        "import plotly.io as pio\n",
        "pio.renderers.default = \"browser\""
      ],
      "execution_count": null,
      "outputs": []
    },
    {
      "cell_type": "code",
      "metadata": {
        "id": "llFLDkp35zfg"
      },
      "source": [
        "\n",
        "import dash\n",
        "from dash.dependencies import Input, Output\n",
        "import dash_core_components as dcc\n",
        "import dash_html_components as html\n",
        "import dash_bootstrap_components as dbc"
      ],
      "execution_count": null,
      "outputs": []
    },
    {
      "cell_type": "markdown",
      "metadata": {
        "id": "OKVW1rzi8jKU"
      },
      "source": [
        "## Picking the urls"
      ]
    },
    {
      "cell_type": "code",
      "metadata": {
        "id": "qFCxh3xo53Lc"
      },
      "source": [
        "CONF_URL = 'https://raw.githubusercontent.com/CSSEGISandData/COVID-19/master/csse_covid_19_data/csse_covid_19_time_series/time_series_covid19_confirmed_global.csv'\n",
        "DEAD_URL = 'https://raw.githubusercontent.com/CSSEGISandData/COVID-19/master/csse_covid_19_data/csse_covid_19_time_series/time_series_covid19_deaths_global.csv'\n",
        "RECV_URL = 'https://raw.githubusercontent.com/CSSEGISandData/COVID-19/master/csse_covid_19_data/csse_covid_19_time_series/time_series_covid19_recovered_global.csv'"
      ],
      "execution_count": null,
      "outputs": []
    },
    {
      "cell_type": "code",
      "metadata": {
        "id": "3lkGrF4z573I"
      },
      "source": [
        "\n",
        "covid_conf_ts = pd.read_csv(CONF_URL)\n",
        "covid_dead_ts = pd.read_csv(DEAD_URL)\n",
        "covid_recv_ts = pd.read_csv(RECV_URL)"
      ],
      "execution_count": null,
      "outputs": []
    },
    {
      "cell_type": "markdown",
      "metadata": {
        "id": "jSGzn2ky8gYT"
      },
      "source": [
        "## Data Processing"
      ]
    },
    {
      "cell_type": "code",
      "metadata": {
        "id": "RFI6Yqqo5-2j"
      },
      "source": [
        "#get data in cleaned time series format for country\n",
        "def process_data(data,cntry='US',window=3):\n",
        "    conf_ts = data\n",
        "    conf_ts_cntry = conf_ts[conf_ts['Country/Region']==cntry]\n",
        "    final_dataset = conf_ts_cntry.T[4:].sum(axis='columns').diff().rolling(window=window).mean()[40:]\n",
        "    df = pd.DataFrame(final_dataset,columns=['Total'])\n",
        "    return df"
      ],
      "execution_count": null,
      "outputs": []
    },
    {
      "cell_type": "code",
      "metadata": {
        "id": "Wyi3yauH6Cos",
        "outputId": "b589453c-8bfe-47ec-cc40-f26feff87e5a",
        "colab": {
          "base_uri": "https://localhost:8080/"
        }
      },
      "source": [
        "\n",
        "#get overall wordlwide total for confirmed, recovered and dead cases\n",
        "def get_overall_total(df):\n",
        "    return df.iloc[:,-1].sum()\n",
        "\n",
        "conf_overall_total = get_overall_total(covid_conf_ts)\n",
        "dead_overall_total = get_overall_total(covid_dead_ts)\n",
        "recv_overall_total = get_overall_total(covid_recv_ts)\n",
        "print('Overall Confirmed:',conf_overall_total)\n",
        "print('Overall Dead:',dead_overall_total)\n",
        "print('Overall Recovered:',recv_overall_total)"
      ],
      "execution_count": null,
      "outputs": [
        {
          "output_type": "stream",
          "text": [
            "Overall Confirmed: 46062525\n",
            "Overall Dead: 1195376\n",
            "Overall Recovered: 30820223\n"
          ],
          "name": "stdout"
        }
      ]
    },
    {
      "cell_type": "code",
      "metadata": {
        "id": "oPlxj97T6FKP",
        "outputId": "30fcf28a-cc9c-4886-cef0-544e9a7a0a7b",
        "colab": {
          "base_uri": "https://localhost:8080/"
        }
      },
      "source": [
        "\n",
        "#get total for confirmed, recovered and dead for country \n",
        "def get_cntry_total(df,cntry='India'):\n",
        "    return df[df['Country/Region']==cntry].iloc[:,-1].sum()\n",
        "\n",
        "cntry = 'US'\n",
        "conf_cntry_total = get_cntry_total(covid_conf_ts,cntry)\n",
        "dead_cntry_total = get_cntry_total(covid_dead_ts,cntry)\n",
        "recv_cntry_total = get_cntry_total(covid_recv_ts,cntry)\n",
        "print(f'{cntry} Confirmed:',conf_cntry_total)\n",
        "print(f'{cntry} Dead:',dead_cntry_total)\n",
        "print(f'{cntry} Recovered:',recv_cntry_total)"
      ],
      "execution_count": null,
      "outputs": [
        {
          "output_type": "stream",
          "text": [
            "US Confirmed: 9125482\n",
            "US Dead: 230548\n",
            "US Recovered: 3612478\n"
          ],
          "name": "stdout"
        }
      ]
    },
    {
      "cell_type": "markdown",
      "metadata": {
        "id": "WHh6gjLn8WIL"
      },
      "source": [
        "## Generate line graph to show the trends"
      ]
    },
    {
      "cell_type": "code",
      "metadata": {
        "id": "vLGZErcm6Uqu"
      },
      "source": [
        "\n",
        "def fig_world_trend(cntry='US',window=3):\n",
        "    df = process_data(data=covid_conf_ts,cntry=cntry,window=window)\n",
        "    df.head(10)\n",
        "    if window==1:\n",
        "        yaxis_title = \"Daily Cases\"\n",
        "    else:\n",
        "        yaxis_title = \"Daily Cases ({}-day MA)\".format(window)\n",
        "    fig = px.line(df, y='Total', x=df.index, title='Daily confirmed cases trend for {}'.format(cntry),height=600,color_discrete_sequence =['maroon'])\n",
        "    fig.update_layout(title_x=0.5,plot_bgcolor='#F2DFCE',paper_bgcolor='#F2DFCE',xaxis_title=\"Date\",yaxis_title=yaxis_title)\n",
        "    return fig"
      ],
      "execution_count": null,
      "outputs": []
    },
    {
      "cell_type": "code",
      "metadata": {
        "id": "vRWtj-Z16Yrh"
      },
      "source": [
        "external_stylesheets = [dbc.themes.BOOTSTRAP]"
      ],
      "execution_count": null,
      "outputs": []
    },
    {
      "cell_type": "code",
      "metadata": {
        "id": "j4hvr8o36bFH"
      },
      "source": [
        "app = dash.Dash(__name__, external_stylesheets=external_stylesheets)\n",
        "app.title = 'Covid-19 Dashboard'"
      ],
      "execution_count": null,
      "outputs": []
    },
    {
      "cell_type": "markdown",
      "metadata": {
        "id": "Y0qDqCL98Rt0"
      },
      "source": [
        "## Page Header"
      ]
    },
    {
      "cell_type": "code",
      "metadata": {
        "id": "EUNn3L2C6dqf"
      },
      "source": [
        "colors = {\n",
        "    'background': '#0f0f0f',\n",
        "    'bodyColor':'#f2dfce',\n",
        "    'text': '#7FDBFF'\n",
        "}\n",
        "def get_page_heading_style():\n",
        "    return {'backgroundColor': colors['background']}\n",
        "\n",
        "\n",
        "def get_page_heading_title():\n",
        "    return html.H1(children='COVID-19 Dashboard',\n",
        "                                        style={\n",
        "                                        'textAlign': 'center',\n",
        "                                        'color': colors['text']\n",
        "                                    })\n",
        "\n",
        "def get_page_heading_subtitle():\n",
        "    return html.Div(children='Visualize Covid-19 data generated from sources all over the world.',\n",
        "                                         style={\n",
        "                                             'textAlign':'center',\n",
        "                                             'color':colors['text']\n",
        "                                         })\n",
        "\n",
        "def generate_page_header():\n",
        "    main_header =  dbc.Row(\n",
        "                            [\n",
        "                                dbc.Col(get_page_heading_title(),md=12)\n",
        "                            ],\n",
        "                            align=\"center\",\n",
        "                            style=get_page_heading_style()\n",
        "                        )\n",
        "    subtitle_header = dbc.Row(\n",
        "                            [\n",
        "                                dbc.Col(get_page_heading_subtitle(),md=12)\n",
        "                            ],\n",
        "                            align=\"center\",\n",
        "                            style=get_page_heading_style()\n",
        "                        )\n",
        "    header = (main_header,subtitle_header)\n",
        "    return header"
      ],
      "execution_count": null,
      "outputs": []
    },
    {
      "cell_type": "markdown",
      "metadata": {
        "id": "6yhSqAjT8Jb_"
      },
      "source": [
        "## Select country dropdown"
      ]
    },
    {
      "cell_type": "code",
      "metadata": {
        "id": "sgJ6CRsW7OHA"
      },
      "source": [
        "def get_country_list():\n",
        "    return covid_conf_ts['Country/Region'].unique()\n",
        "\n",
        "def create_dropdown_list(cntry_list):\n",
        "    dropdown_list = []\n",
        "    for cntry in sorted(cntry_list):\n",
        "        tmp_dict = {'label':cntry,'value':cntry}\n",
        "        dropdown_list.append(tmp_dict)\n",
        "    return dropdown_list\n",
        "\n",
        "def get_country_dropdown(id):\n",
        "    return html.Div([\n",
        "                        html.Label('Select Country'),\n",
        "                        dcc.Dropdown(id='my-id'+str(id),\n",
        "                            options=create_dropdown_list(get_country_list()),\n",
        "                            value='US'\n",
        "                        ),\n",
        "                        html.Div(id='my-div'+str(id))\n",
        "                    ])"
      ],
      "execution_count": null,
      "outputs": []
    },
    {
      "cell_type": "code",
      "metadata": {
        "id": "5QXe2yaA7ShQ"
      },
      "source": [
        "def graph1():\n",
        "    return dcc.Graph(id='graph1',figure=fig_world_trend('US'))"
      ],
      "execution_count": null,
      "outputs": []
    },
    {
      "cell_type": "markdown",
      "metadata": {
        "id": "AFCKwjX58FZV"
      },
      "source": [
        "## Generate CARDS for overall numbers"
      ]
    },
    {
      "cell_type": "code",
      "metadata": {
        "id": "oiq0Ds9y7Vtl"
      },
      "source": [
        "def generate_card_content(card_header,card_value,overall_value):\n",
        "    card_head_style = {'textAlign':'center','fontSize':'150%'}\n",
        "    card_body_style = {'textAlign':'center','fontSize':'200%'}\n",
        "    card_header = dbc.CardHeader(card_header,style=card_head_style)\n",
        "    card_body = dbc.CardBody(\n",
        "        [\n",
        "            html.H5(f\"{int(card_value):,}\", className=\"card-title\",style=card_body_style),\n",
        "            html.P(\n",
        "                \"Worlwide: {:,}\".format(overall_value),\n",
        "                className=\"card-text\",style={'textAlign':'center'}\n",
        "            ),\n",
        "        ]\n",
        "    )\n",
        "    card = [card_header,card_body]\n",
        "    return card"
      ],
      "execution_count": null,
      "outputs": []
    },
    {
      "cell_type": "code",
      "metadata": {
        "id": "pcNLObXH7Ynj"
      },
      "source": [
        "\n",
        "def generate_cards(cntry='US'):\n",
        "    conf_cntry_total = get_cntry_total(covid_conf_ts,cntry)\n",
        "    dead_cntry_total = get_cntry_total(covid_dead_ts,cntry)\n",
        "    recv_cntry_total = get_cntry_total(covid_recv_ts,cntry)\n",
        "    cards = html.Div(\n",
        "        [\n",
        "            dbc.Row(\n",
        "                [\n",
        "                    dbc.Col(dbc.Card(generate_card_content(\"Recovered\",recv_cntry_total,recv_overall_total), color=\"success\", inverse=True),md=dict(size=2,offset=3)),\n",
        "                    dbc.Col(dbc.Card(generate_card_content(\"Confirmed\",conf_cntry_total,conf_overall_total), color=\"warning\", inverse=True),md=dict(size=2)),\n",
        "                    dbc.Col(dbc.Card(generate_card_content(\"Dead\",dead_cntry_total,dead_overall_total),color=\"dark\", inverse=True),md=dict(size=2)),\n",
        "                ],\n",
        "                className=\"mb-4\",\n",
        "            ),\n",
        "        ],id='card1'\n",
        "    )\n",
        "    return cards"
      ],
      "execution_count": null,
      "outputs": []
    },
    {
      "cell_type": "markdown",
      "metadata": {
        "id": "2X1gy_rq8ABZ"
      },
      "source": [
        "## DASH Slider for Moving Average Window"
      ]
    },
    {
      "cell_type": "code",
      "metadata": {
        "id": "eWGZi6CG7b-K"
      },
      "source": [
        "def get_slider():\n",
        "    return html.Div([  \n",
        "                        dcc.Slider(\n",
        "                            id='my-slider',\n",
        "                            min=1,\n",
        "                            max=15,\n",
        "                            step=None,\n",
        "                            marks={\n",
        "                                1: '1',\n",
        "                                3: '3',\n",
        "                                5: '5',\n",
        "                                7: '1-Week',\n",
        "                                14: 'Fortnight'\n",
        "                            },\n",
        "                            value=3,\n",
        "                        ),\n",
        "                        html.Div([html.Label('Select Moving Average Window')],id='my-div'+str(id),style={'textAlign':'center'})\n",
        "                    ])"
      ],
      "execution_count": null,
      "outputs": []
    },
    {
      "cell_type": "markdown",
      "metadata": {
        "id": "mvAZR2B176hi"
      },
      "source": [
        "## Generate APP layout"
      ]
    },
    {
      "cell_type": "code",
      "metadata": {
        "id": "DUwG-kjW7foE"
      },
      "source": [
        "def generate_layout():\n",
        "    page_header = generate_page_header()\n",
        "    layout = dbc.Container(\n",
        "        [\n",
        "            page_header[0],\n",
        "            page_header[1],\n",
        "            html.Hr(),\n",
        "            generate_cards(),\n",
        "            html.Hr(),\n",
        "            dbc.Row(\n",
        "                [\n",
        "                    dbc.Col(get_country_dropdown(id=1),md=dict(size=4,offset=4))                    \n",
        "                ]\n",
        "            \n",
        "            ),\n",
        "            dbc.Row(\n",
        "                [                \n",
        "                    \n",
        "                    dbc.Col(graph1(),md=dict(size=6,offset=3))\n",
        "        \n",
        "                ],\n",
        "                align=\"center\",\n",
        "\n",
        "            ),\n",
        "            dbc.Row(\n",
        "                [\n",
        "                    dbc.Col(get_slider(),md=dict(size=4,offset=4))                    \n",
        "                ]\n",
        "            \n",
        "            ),\n",
        "        ],fluid=True,style={'backgroundColor': colors['bodyColor']}\n",
        "    )\n",
        "    return layout"
      ],
      "execution_count": null,
      "outputs": []
    },
    {
      "cell_type": "code",
      "metadata": {
        "id": "kuARQZw-7jF2"
      },
      "source": [
        "app.layout = generate_layout()"
      ],
      "execution_count": null,
      "outputs": []
    },
    {
      "cell_type": "code",
      "metadata": {
        "id": "vzA6AYtG7leU"
      },
      "source": [
        "@app.callback(\n",
        "    [Output(component_id='graph1',component_property='figure'), #line chart\n",
        "    Output(component_id='card1',component_property='children')], #overall card numbers\n",
        "    [Input(component_id='my-id1',component_property='value'), #dropdown\n",
        "     Input(component_id='my-slider',component_property='value')] #slider\n",
        ")\n",
        "def update_output_div(input_value1,input_value2):\n",
        "    return fig_world_trend(input_value1,input_value2),generate_cards(input_value1)"
      ],
      "execution_count": null,
      "outputs": []
    }
  ]
}